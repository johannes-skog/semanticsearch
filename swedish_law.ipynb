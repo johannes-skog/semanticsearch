{
 "cells": [
  {
   "cell_type": "code",
   "execution_count": 1,
   "id": "6fd8e35b",
   "metadata": {},
   "outputs": [],
   "source": [
    "import sys\n",
    "sys.path.append(\"src\")\n",
    "%load_ext autoreload\n",
    "%autoreload 2\n",
    "import pandas as pd\n",
    "from scraping import scan_swedish_legislation_parallel\n",
    "from vector_db import VectorDatabaseWeaviate\n",
    "from embedd import split_text, EmbedderOpenAI, EmbedderSwedishLegislation\n",
    "from search import SwedishLegislationSearch"
   ]
  },
  {
   "cell_type": "markdown",
   "id": "e14b23ba",
   "metadata": {},
   "source": [
    "## Scrap Swedish government office for all laws and regulations"
   ]
  },
  {
   "cell_type": "code",
   "execution_count": 2,
   "id": "e614645c",
   "metadata": {
    "scrolled": true
   },
   "outputs": [
    {
     "name": "stderr",
     "output_type": "stream",
     "text": [
      "100%|███████████████████████████████████████| 4539/4539 [01:42<00:00, 44.37it/s]\n"
     ]
    }
   ],
   "source": [
    "df = scan_swedish_legislation_parallel()\n",
    "df.to_pickle(\"data/laws.pickle\")"
   ]
  },
  {
   "cell_type": "code",
   "execution_count": 3,
   "id": "7cdf1573",
   "metadata": {},
   "outputs": [],
   "source": [
    "df = pd.read_pickle(\"data/laws.pickle\")"
   ]
  },
  {
   "cell_type": "markdown",
   "id": "0f5d0644",
   "metadata": {},
   "source": [
    "## Set up embedding"
   ]
  },
  {
   "cell_type": "code",
   "execution_count": 2,
   "id": "dc010a4e",
   "metadata": {},
   "outputs": [],
   "source": [
    "df = pd.read_pickle(\"data/laws.pickle\")\n",
    "\n",
    "if 0: # For debuging.. \n",
    "    df = pd.read_pickle(\"data/laws.pickle\").sample(50)\n",
    "\n",
    "embedder = EmbedderSwedishLegislation(\n",
    "    df=df,\n",
    "    embedd_column=\"content\",\n",
    "    text_max_length=250,\n",
    "    text_overlap=20,\n",
    "    context_columns=[\"title\"],\n",
    ")\n",
    "embedder.setup()"
   ]
  },
  {
   "cell_type": "code",
   "execution_count": 51,
   "id": "9737f478",
   "metadata": {},
   "outputs": [],
   "source": [
    "r = embedder.embedd_batch(texts=[\"hejsan\", \"hejsan på dig\"])"
   ]
  },
  {
   "cell_type": "code",
   "execution_count": 37,
   "id": "9946cf2a",
   "metadata": {
    "scrolled": true
   },
   "outputs": [
    {
     "data": {
      "text/html": [
       "<div>\n",
       "<style scoped>\n",
       "    .dataframe tbody tr th:only-of-type {\n",
       "        vertical-align: middle;\n",
       "    }\n",
       "\n",
       "    .dataframe tbody tr th {\n",
       "        vertical-align: top;\n",
       "    }\n",
       "\n",
       "    .dataframe thead th {\n",
       "        text-align: right;\n",
       "    }\n",
       "</style>\n",
       "<table border=\"1\" class=\"dataframe\">\n",
       "  <thead>\n",
       "    <tr style=\"text-align: right;\">\n",
       "      <th></th>\n",
       "      <th>SFS_number</th>\n",
       "      <th>title</th>\n",
       "      <th>issuer</th>\n",
       "      <th>issued_date</th>\n",
       "      <th>in_effect_date</th>\n",
       "      <th>content</th>\n",
       "      <th>n_tokens</th>\n",
       "    </tr>\n",
       "  </thead>\n",
       "  <tbody>\n",
       "    <tr>\n",
       "      <th>0</th>\n",
       "      <td>2023:196</td>\n",
       "      <td>Lag (2023:196) om kommuners ansvar för brottsf...</td>\n",
       "      <td>Departement:Justitiedepartementet L5</td>\n",
       "      <td>2023-04-20</td>\n",
       "      <td>Ikraft:2023-07-01 överg.best.</td>\n",
       "      <td>Lag (2023:196) om kommuners ansvar för brottsf...</td>\n",
       "      <td>115</td>\n",
       "    </tr>\n",
       "    <tr>\n",
       "      <th>1</th>\n",
       "      <td>2023:196</td>\n",
       "      <td>Lag (2023:196) om kommuners ansvar för brottsf...</td>\n",
       "      <td>Departement:Justitiedepartementet L5</td>\n",
       "      <td>2023-04-20</td>\n",
       "      <td>Ikraft:2023-07-01 överg.best.</td>\n",
       "      <td>Lag (2023:196) om kommuners ansvar för brottsf...</td>\n",
       "      <td>111</td>\n",
       "    </tr>\n",
       "    <tr>\n",
       "      <th>2</th>\n",
       "      <td>2023:196</td>\n",
       "      <td>Lag (2023:196) om kommuners ansvar för brottsf...</td>\n",
       "      <td>Departement:Justitiedepartementet L5</td>\n",
       "      <td>2023-04-20</td>\n",
       "      <td>Ikraft:2023-07-01 överg.best.</td>\n",
       "      <td>Lag (2023:196) om kommuners ansvar för brottsf...</td>\n",
       "      <td>110</td>\n",
       "    </tr>\n",
       "    <tr>\n",
       "      <th>3</th>\n",
       "      <td>2023:196</td>\n",
       "      <td>Lag (2023:196) om kommuners ansvar för brottsf...</td>\n",
       "      <td>Departement:Justitiedepartementet L5</td>\n",
       "      <td>2023-04-20</td>\n",
       "      <td>Ikraft:2023-07-01 överg.best.</td>\n",
       "      <td>Lag (2023:196) om kommuners ansvar för brottsf...</td>\n",
       "      <td>106</td>\n",
       "    </tr>\n",
       "    <tr>\n",
       "      <th>4</th>\n",
       "      <td>2023:196</td>\n",
       "      <td>Lag (2023:196) om kommuners ansvar för brottsf...</td>\n",
       "      <td>Departement:Justitiedepartementet L5</td>\n",
       "      <td>2023-04-20</td>\n",
       "      <td>Ikraft:2023-07-01 överg.best.</td>\n",
       "      <td>Lag (2023:196) om kommuners ansvar för brottsf...</td>\n",
       "      <td>111</td>\n",
       "    </tr>\n",
       "    <tr>\n",
       "      <th>...</th>\n",
       "      <td>...</td>\n",
       "      <td>...</td>\n",
       "      <td>...</td>\n",
       "      <td>...</td>\n",
       "      <td>...</td>\n",
       "      <td>...</td>\n",
       "      <td>...</td>\n",
       "    </tr>\n",
       "    <tr>\n",
       "      <th>38371</th>\n",
       "      <td>1736:0123</td>\n",
       "      <td>Handelsbalk (1736:0123 2)</td>\n",
       "      <td>Departement:Justitiedepartementet L2</td>\n",
       "      <td>1736-01-23</td>\n",
       "      <td>Ändring införd:t.o.m. SFS1986:798</td>\n",
       "      <td>Handelsbalk (1736:0123 2)||s. 1) ang. löftesma...</td>\n",
       "      <td>117</td>\n",
       "    </tr>\n",
       "    <tr>\n",
       "      <th>38372</th>\n",
       "      <td>1736:0123</td>\n",
       "      <td>Handelsbalk (1736:0123 2)</td>\n",
       "      <td>Departement:Justitiedepartementet L2</td>\n",
       "      <td>1736-01-23</td>\n",
       "      <td>Ändring införd:t.o.m. SFS1986:798</td>\n",
       "      <td>Handelsbalk (1736:0123 2)||örfallotid gjort, ä...</td>\n",
       "      <td>109</td>\n",
       "    </tr>\n",
       "    <tr>\n",
       "      <th>38373</th>\n",
       "      <td>1736:0123</td>\n",
       "      <td>Handelsbalk (1736:0123 2)</td>\n",
       "      <td>Departement:Justitiedepartementet L2</td>\n",
       "      <td>1736-01-23</td>\n",
       "      <td>Ändring införd:t.o.m. SFS1986:798</td>\n",
       "      <td>Handelsbalk (1736:0123 2)||undit sig att, en f...</td>\n",
       "      <td>103</td>\n",
       "    </tr>\n",
       "    <tr>\n",
       "      <th>38374</th>\n",
       "      <td>1736:0123</td>\n",
       "      <td>Handelsbalk (1736:0123 2)</td>\n",
       "      <td>Departement:Justitiedepartementet L2</td>\n",
       "      <td>1736-01-23</td>\n",
       "      <td>Ändring införd:t.o.m. SFS1986:798</td>\n",
       "      <td>Handelsbalk (1736:0123 2)||r förfallotiden eft...</td>\n",
       "      <td>102</td>\n",
       "    </tr>\n",
       "    <tr>\n",
       "      <th>38375</th>\n",
       "      <td>1736:0123</td>\n",
       "      <td>Handelsbalk (1736:0123 2)</td>\n",
       "      <td>Departement:Justitiedepartementet L2</td>\n",
       "      <td>1736-01-23</td>\n",
       "      <td>Ändring införd:t.o.m. SFS1986:798</td>\n",
       "      <td>Handelsbalk (1736:0123 2)||fter uppsägning bet...</td>\n",
       "      <td>24</td>\n",
       "    </tr>\n",
       "  </tbody>\n",
       "</table>\n",
       "<p>38376 rows × 7 columns</p>\n",
       "</div>"
      ],
      "text/plain": [
       "      SFS_number                                              title   \n",
       "0       2023:196  Lag (2023:196) om kommuners ansvar för brottsf...  \\\n",
       "1       2023:196  Lag (2023:196) om kommuners ansvar för brottsf...   \n",
       "2       2023:196  Lag (2023:196) om kommuners ansvar för brottsf...   \n",
       "3       2023:196  Lag (2023:196) om kommuners ansvar för brottsf...   \n",
       "4       2023:196  Lag (2023:196) om kommuners ansvar för brottsf...   \n",
       "...          ...                                                ...   \n",
       "38371  1736:0123                          Handelsbalk (1736:0123 2)   \n",
       "38372  1736:0123                          Handelsbalk (1736:0123 2)   \n",
       "38373  1736:0123                          Handelsbalk (1736:0123 2)   \n",
       "38374  1736:0123                          Handelsbalk (1736:0123 2)   \n",
       "38375  1736:0123                          Handelsbalk (1736:0123 2)   \n",
       "\n",
       "                                     issuer issued_date   \n",
       "0      Departement:Justitiedepartementet L5  2023-04-20  \\\n",
       "1      Departement:Justitiedepartementet L5  2023-04-20   \n",
       "2      Departement:Justitiedepartementet L5  2023-04-20   \n",
       "3      Departement:Justitiedepartementet L5  2023-04-20   \n",
       "4      Departement:Justitiedepartementet L5  2023-04-20   \n",
       "...                                     ...         ...   \n",
       "38371  Departement:Justitiedepartementet L2  1736-01-23   \n",
       "38372  Departement:Justitiedepartementet L2  1736-01-23   \n",
       "38373  Departement:Justitiedepartementet L2  1736-01-23   \n",
       "38374  Departement:Justitiedepartementet L2  1736-01-23   \n",
       "38375  Departement:Justitiedepartementet L2  1736-01-23   \n",
       "\n",
       "                          in_effect_date   \n",
       "0          Ikraft:2023-07-01 överg.best.  \\\n",
       "1          Ikraft:2023-07-01 överg.best.   \n",
       "2          Ikraft:2023-07-01 överg.best.   \n",
       "3          Ikraft:2023-07-01 överg.best.   \n",
       "4          Ikraft:2023-07-01 överg.best.   \n",
       "...                                  ...   \n",
       "38371  Ändring införd:t.o.m. SFS1986:798   \n",
       "38372  Ändring införd:t.o.m. SFS1986:798   \n",
       "38373  Ändring införd:t.o.m. SFS1986:798   \n",
       "38374  Ändring införd:t.o.m. SFS1986:798   \n",
       "38375  Ändring införd:t.o.m. SFS1986:798   \n",
       "\n",
       "                                                 content  n_tokens  \n",
       "0      Lag (2023:196) om kommuners ansvar för brottsf...       115  \n",
       "1      Lag (2023:196) om kommuners ansvar för brottsf...       111  \n",
       "2      Lag (2023:196) om kommuners ansvar för brottsf...       110  \n",
       "3      Lag (2023:196) om kommuners ansvar för brottsf...       106  \n",
       "4      Lag (2023:196) om kommuners ansvar för brottsf...       111  \n",
       "...                                                  ...       ...  \n",
       "38371  Handelsbalk (1736:0123 2)||s. 1) ang. löftesma...       117  \n",
       "38372  Handelsbalk (1736:0123 2)||örfallotid gjort, ä...       109  \n",
       "38373  Handelsbalk (1736:0123 2)||undit sig att, en f...       103  \n",
       "38374  Handelsbalk (1736:0123 2)||r förfallotiden eft...       102  \n",
       "38375  Handelsbalk (1736:0123 2)||fter uppsägning bet...        24  \n",
       "\n",
       "[38376 rows x 7 columns]"
      ]
     },
     "execution_count": 37,
     "metadata": {},
     "output_type": "execute_result"
    }
   ],
   "source": [
    "embedder._df"
   ]
  },
  {
   "cell_type": "code",
   "execution_count": 17,
   "id": "c93d33f4",
   "metadata": {},
   "outputs": [
    {
     "data": {
      "text/plain": [
       "'Förordning (2023:168) om statsbidrag för kvinnors och flickors organisering||ket gäller även skulder hos Kronofogdemyndigheten som avser återkrav av statsbidrag som Jämställdhetsmyndigheten har beslutat om. Villkor 10 § Den verksamhet som bidrag lämnas för ska bedrivas i Sverige utan vinstsyfte och tillgodose syf'"
      ]
     },
     "execution_count": 17,
     "metadata": {},
     "output_type": "execute_result"
    }
   ],
   "source": [
    "embedder._df[\"content\"][54]"
   ]
  },
  {
   "cell_type": "code",
   "execution_count": 9,
   "id": "f1540871",
   "metadata": {},
   "outputs": [
    {
     "data": {
      "text/plain": [
       "24142"
      ]
     },
     "execution_count": 9,
     "metadata": {},
     "output_type": "execute_result"
    }
   ],
   "source": [
    "embedder._df.n_tokens.sum()"
   ]
  },
  {
   "cell_type": "code",
   "execution_count": 18,
   "id": "8920656a",
   "metadata": {},
   "outputs": [
    {
     "data": {
      "text/plain": [
       "1.5549884"
      ]
     },
     "execution_count": 18,
     "metadata": {},
     "output_type": "execute_result"
    }
   ],
   "source": [
    "# Calculate the cost for the embedding\n",
    "(embedder._df.n_tokens.sum() / 1000) * 0.0004"
   ]
  },
  {
   "cell_type": "code",
   "execution_count": 3,
   "id": "6ca0d55f",
   "metadata": {},
   "outputs": [
    {
     "name": "stderr",
     "output_type": "stream",
     "text": [
      "16469it [1:57:47,  3.00it/s]"
     ]
    }
   ],
   "source": [
    "# Run the embedder\n",
    "embedder.embedd(245000, timeout=1/3000)"
   ]
  },
  {
   "cell_type": "code",
   "execution_count": 7,
   "id": "39854a78",
   "metadata": {},
   "outputs": [],
   "source": [
    "embedder._df.to_pickle(\"data/processed_short.pickle\")"
   ]
  },
  {
   "cell_type": "code",
   "execution_count": 39,
   "id": "293842a4",
   "metadata": {},
   "outputs": [],
   "source": [
    "embedder._df = pd.read_pickle(\"data/processed_short.pickle\")"
   ]
  },
  {
   "cell_type": "markdown",
   "id": "1dbe6936",
   "metadata": {},
   "source": [
    "## Set up vector database"
   ]
  },
  {
   "cell_type": "code",
   "execution_count": 40,
   "id": "bcea6630",
   "metadata": {},
   "outputs": [],
   "source": [
    "class_obj = VectorDatabaseWeaviate.setup_class_object_structure(\n",
    "    class_name=\"Swedish_legislation\",\n",
    "    names=[\n",
    "        \"SFS_number\", \"title\", \"issuer\", \"content\"\n",
    "    ],\n",
    "    data_types=[\"text\"] * 4,\n",
    "    description=\"Holds Swedish legislation\"\n",
    ")\n",
    "\n",
    "vector_db = VectorDatabaseWeaviate(\n",
    "    name=\"Swedish_legislation\",\n",
    "    url=\"http://weaviate:8080\",\n",
    "    schema=class_obj,\n",
    ")"
   ]
  },
  {
   "cell_type": "code",
   "execution_count": 41,
   "id": "29b32fcc",
   "metadata": {},
   "outputs": [],
   "source": [
    "# Clear the vector datasbase \n",
    "if 0:\n",
    "    vector_db.redo()"
   ]
  },
  {
   "cell_type": "code",
   "execution_count": 42,
   "id": "9f44177f",
   "metadata": {},
   "outputs": [
    {
     "name": "stderr",
     "output_type": "stream",
     "text": [
      "38376it [00:52, 734.44it/s]\n"
     ]
    }
   ],
   "source": [
    "# Add the embedding vectors to the vector database\n",
    "vector_db.populate(\n",
    "    embedder=embedder,\n",
    "    batch_size=100,\n",
    ")"
   ]
  },
  {
   "cell_type": "markdown",
   "id": "fca833ef",
   "metadata": {},
   "source": [
    "## Set up the semantic search with chat interface"
   ]
  },
  {
   "cell_type": "code",
   "execution_count": 43,
   "id": "a9f73e77",
   "metadata": {},
   "outputs": [],
   "source": [
    "from search import SwedishLegislationSearch"
   ]
  },
  {
   "cell_type": "code",
   "execution_count": 44,
   "id": "dee323fb",
   "metadata": {},
   "outputs": [],
   "source": [
    "law_search = SwedishLegislationSearch(\n",
    "    embedd_function=EmbedderSwedishLegislation.embedd_single,\n",
    "    vector_db=vector_db,\n",
    ")"
   ]
  },
  {
   "cell_type": "code",
   "execution_count": 54,
   "id": "318c1540",
   "metadata": {
    "scrolled": false
   },
   "outputs": [
    {
     "name": "stdout",
     "output_type": "stream",
     "text": [
      "###########CONTEXT###########\n",
      "\n",
      "Lag (1943:881) om polisens ställning under krig||1 § En polisman är skyldig att under krig delta i rikets försvar i den omfattning regeringen föreskriver. Lag (2014:581). 2 § En polisman, som enligt särskilda bestämmelser ska delta i rikets försvar, tillhör under krig Försvarsmakten. Lag (20\n",
      "Kungörelse (1958:262) om tillämpning av lagen (1943:881) om polisens ställning under krig||an endast om polismän redan fullgör nödvändiga civila försvarsuppgifter eller medverkan allvarligt skulle äventyra den allmänna ordningen och säkerheten. När den begärda uppgiften har slutförts får Försvarsmakten inte förfoga över polismännen \n",
      "Kungörelse (1958:262) om tillämpning av lagen (1943:881) om polisens ställning under krig||kten omedelbart underrättas. Förordning (2014:1110). 6 § Om polisiär medverkan är nödvändig för att avvärja ett fientligt angrepp, får Försvarsmakten begära medverkan av Polismyndigheten. Myndigheten får avslå en sådan begäran endast om polism\n",
      "Kungörelse (1958:262) om tillämpning av lagen (1943:881) om polisens ställning under krig||1110). 5 § När omständigheterna kräver det bör en försvarspliktig polisman, som är uniformerad, ingripa mot mindre grupper av fientliga soldater, även om order om det inte har getts. Har ett ingripande gjorts, ska Försvarsmakten omedelbart und\n",
      "Lag (1943:881) om polisens ställning under krig||varsmakten. Lag (2014:581). 3 § Har upphävts genom lag (2014:581). 4 § Har upphävts genom lag (1980:587). 5 § Regeringen meddelar närmare föreskrifter om tillämpningen av denna lag. Lag (2014:581).\n",
      "Lag (1979:1088) om gränsövervakningen i krig m.m.||ten ska bedrivas, 2. vilka polismän, särskilt förordnade passkontrollanter och tulltjänstemän som ska avdelas för verksamheten och vilka militära enheter som ska medverka i denna, 3. hur personalen ska utbildas och utrustas, 4. vilken mate\n",
      "Lag (1979:1088) om gränsövervakningen i krig m.m.||atta åtgärder. Om Försvarsmakten, Polismyndigheten eller Tullverket ska besluta om fortsatta åtgärder ska ärendet i stället överlämnas dit. Lag (2014:684). 8 § Om en skärpning av kontrollen av persontrafiken till eller från utlandet med visst \n",
      "Förordning (1982:756) om Försvarsmaktens ingripanden vid kränkningar av Sveriges territorium under fred och neutralitet, m.m. (IKFN-förordning)||smyndigheten. Om Polismyndigheten begär det, ska personalen hållas kvar i avvaktan på vidare åtgärder. Om det är nödvändigt får Försvarsmakten tillgripa vapenmakt. Det som nu har sagts gäller inte ambulansluftfartyg. Förordning (2014:1213). 54\n",
      "Förordning (1982:756) om Försvarsmaktens ingripanden vid kränkningar av Sveriges territorium under fred och neutralitet, m.m. (IKFN-förordning)||a in eller vistas i Sverige, ska personalen omhändertas och avväpnas. Åtgärden ska anmälas till Polismyndigheten. Om Polismyndigheten begär det, ska personalen hållas kvar i avvaktan på vidare åtgärder. Förordning (2014:1213). Ingripanden mot \n",
      "Förordning (2022:524) om statliga myndigheters beredskap||nnan myndighet än den där den är anställd, ska genom myndighetens försorg ges skriftligt besked om sin krigsplacering eller avsedda tjänstgöring. Beskedet ska innehålla uppgift om inställelseplats. Varje myndighet ska ansvara för att persona\n",
      "Kungörelse (1958:262) om tillämpning av lagen (1943:881) om polisens ställning under krig||n och Polismyndigheten har upprättat ska revideras så ofta omständigheterna kräver det och ses över minst en gång om året. Förordning (2014:1110). 10 § Polismyndigheten får, i samråd med Säkerhetspolisen och efter att ha hört Försvarsmakten, me\n",
      "Lag (1979:1088) om gränsövervakningen i krig m.m.||rligt med hänsyn till tjänsteuppgiftens syfte. 10 § Vad som föreskrivs i 6-9 §§ begränsar ej de befogenheter som enligt bestämmelser i annan författning tillkommer gränsövervakningsman i egenskap av polisman, tulltjänsteman eller krigsman tillhö\n",
      "Lag (1979:1088) om gränsövervakningen i krig m.m.||Inledande bestämmelser 1 § Kommer riket i krig ska den övervakning av trafiken över rikets gränser som ankommer på Polismyndigheten, Tullverket, Försvarsmakten och Kustbevakningen samordnas i de avseenden som anges i 2 §. Är riket i krigsfar\n",
      "Förordning (2022:524) om statliga myndigheters beredskap||vara för att personal som är krigsplacerad vid myndigheten får den utbildning och övning som behövs för att den ska kunna utföra sina uppgifter vid höjd beredskap. Informationsskyldighet 12 § Varje myndighet ska på förfrågan från Regering\n",
      "Förordning (1982:756) om Försvarsmaktens ingripanden vid kränkningar av Sveriges territorium under fred och neutralitet, m.m. (IKFN-förordning)||tgärden ska anmälas till Polismyndigheten. Om Polismyndigheten begär det, ska personalen hållas kvar i avvaktan på vidare åtgärder. Förordning (2014:1213). 11 § Utländsk militär personal får inte bära uniform inom Sveriges landområden utan till\n",
      "Förordning (1980:123) med reglemente för militärpolisen||ken som tydligt anger hans eller hennes befattning som militärpolisman. Han eller hon ska också medföra en legitimationshandling som visar att han eller hon är militärpolisman. Förordning (2014:1212). 9 § En disciplinansvarig är på begäran av \n",
      "Förordning (1982:756) om Försvarsmaktens ingripanden vid kränkningar av Sveriges territorium under fred och neutralitet, m.m. (IKFN-förordning)||19). 53 § En krigförande stats statsluftfartyg som är i nöd och behöver landa ska anvisas landningsplats. Om luftfartyget landar ska det hållas kvar. Personalen ska omhändertas och avväpnas. Åtgärden ska anmälas till Polismyndigheten. Om Pol\n",
      "Förordning (1982:756) om Försvarsmaktens ingripanden vid kränkningar av Sveriges territorium under fred och neutralitet, m.m. (IKFN-förordning)||som hålls kvar enligt 59 §. Åtgärden ska anmälas till Polismyndigheten. Om Polismyndigheten begär det, ska de omhändertagna hållas kvar i avvaktan på vidare åtgärder. Om det är nödvändigt får Försvarsmakten tillgripa vapenmakt. Förordning (2014:1\n",
      "Kungörelse (1969:84) om polisens användning av skjutvapen||nte om gruppen, avdelningen eller någon annan utsätts för ett så allvarligt angrepp eller hot om angrepp att vapen måste användas omedelbart. Förordning (2014:1115). 7 § Innan polisman använder skjutvapen, skall han särskilt beakta risken för \n",
      "Förordning (1980:123) med reglemente för militärpolisen||litärpolisen ska samråda med Polismyndigheten respektive Säkerhetspolisen när det finns skäl för det. Förordning (2014:1212). 6 § Chefen för en avdelning ur militärpolisen får av myndigheter begära de upplysningar och det biträde som behövs för\n",
      "Förordning (2022:1719) med instruktion för Säkerhetspolisen||Uppgifter Ansvarsområde 1 § Säkerhetspolisen bedriver i egenskap av säkerhetstjänst underrättelse- och säkerhetsarbete. Myndighetens huvudsakliga uppgifter och ansvar framgår av 3 § polislagen (1984:387). Myndighetens övriga uppgifter o\n",
      "Förordning (2022:524) om statliga myndigheters beredskap|| den ska kunna utföra sina uppgifter vid fredstida krissituationer. 9 § Varje myndighet vars ansvarsområde berörs av en fredstida krissituation ska vidta de åtgärder som behövs för att hantera den uppkomna situationen och konsekvenserna av\n",
      "Förordning (1980:123) med reglemente för militärpolisen||träde som behövs för militärpolisens verksamhet och som myndigheterna kan lämna. Den som tjänstgör inom Försvarsmakten eller deltar i sådana övningar som sägs i 1 § är skyldig att lämna upplysningar till en militärpolisman och även i övrigt bit\n",
      "Förordning (1980:123) med reglemente för militärpolisen||medverka vid trafikövervakning. Förordning (2014:1212). 8 § När en militärpolisman fullgör polisuppgifter, ska han eller hon, om inte annat föranleds av uppgifterna, till uniformen bära en armbindel eller ett motsvarande tecken som tydligt ang\n",
      "Förordning (1980:123) med reglemente för militärpolisen||ott, 3. i övrigt lämna personal som tjänstgör inom Försvarsmakten upplysningar och annan hjälp. Förordning (1994:392). 2 § Militärpolistjänsten fullgörs som ordningstjänst, utredningstjänst och säkerhetstjänst. I ordningstjänsten ingår trafik\n",
      "\n",
      "\n",
      "###########QUERY###########\n",
      "\n",
      "Svara på frågan med hjälp av de lagar och förordningar som du har tillgång till, referera alltid till källan.\n",
      "Vilket ansvar har polisen under ett krigstillstånd? Svara detaljerat\n",
      "\n",
      "\n",
      "###########RESPONSE###########\n",
      "\n",
      "Enligt Lag (1943:881) om polisens ställning under krig är en polisman skyldig att delta i rikets försvar i den omfattning regeringen föreskriver. En polisman som enligt särskilda bestämmelser ska delta i rikets försvar tillhör under krig Försvarsmakten. Polismyndigheten kan begära medverkan av Polismyndigheten om polisiär medverkan är nödvändig för att avvärja ett fientligt angrepp. \n",
      "\n",
      "Enligt Kungörelse (1958:262) om tillämpning av lagen (1943:881) om polisens ställning under krig kan polismän avdelas för att fullgöra nödvändiga civila försvarsuppgifter eller medverkan allvarligt skulle äventyra den allmänna ordningen och säkerheten. När den begärda uppgiften har slutförts får Försvarsmakten inte förfoga över polismännen. \n",
      "\n",
      "Polismyndigheten har även ansvar för gränsövervakningen i krig enligt Lag (1979:1088) om gränsövervakningen i krig m.m. Polismyndigheten, Tullverket, Försvarsmakten och Kustbevakningen ska samordna övervakningen av trafiken över rikets gränser. \n",
      "\n",
      "Vidare kan polisen använda skjutvapen om gruppen, avdelningen eller någon annan utsätts för ett så allvarligt angrepp eller hot om angrepp att vapen måste användas omedelbart enligt Kungörelse (1969:84) om polisens användning av skjutvapen. \n",
      "\n",
      "Referenser:\n",
      "- Lag (1943:881) om polisens ställning under krig\n",
      "- Kungörelse (1958:262) om tillämpning av lagen (1943:881) om polisens ställning under krig\n",
      "- Lag (1979:1088) om gränsövervakningen i krig m.m.\n",
      "- Kungörelse (1969:84) om polisens användning av skjutvapen\n"
     ]
    }
   ],
   "source": [
    "return_data = law_search.query(\"Vilket ansvar har polisen under ett krigstillstånd? Svara detaljerat\", limit=25, print_debug=True)"
   ]
  },
  {
   "cell_type": "code",
   "execution_count": 47,
   "id": "43e0d420",
   "metadata": {
    "scrolled": false
   },
   "outputs": [
    {
     "name": "stdout",
     "output_type": "stream",
     "text": [
      "###########CONTEXT###########\n",
      "\n",
      "Förordning (2009:263) om vigsel som förrättas av särskilt förordnad vigselförrättare||ar: Ja.) Vill du N.N. ta dennadenne N.N. till din hustruman att älska hennehonom i nöd och lust? (Svar: Ja.) (Paret kan växla ringar.) Jag förklarar er nu för äkta makar. När ni nu går ut i livet och åter till vardagen så minns den\n",
      "Förordning (2009:263) om vigsel som förrättas av särskilt förordnad vigselförrättare|| vigsel bestäms av vigselförrättaren efter samråd med paret. 4 § Vid vigsel ska vigselförrättaren rikta följande ord till paret: Ni har förklarat att ni vill ingå äktenskap med varandra. Vill du N.N. ta dennadenne N.N. till din hustruman?\n",
      "Förordning (2009:263) om vigsel som förrättas av särskilt förordnad vigselförrättare||till din hustruman? (Svar: Ja.) Vill du N.N. ta dennadenne N.N. till din hustruman? (Svar: Ja.) Jag förklarar er nu för äkta makar. 5 § Om paret särskilt begär det kan vigselförrättaren, i stället för det som anges i 4 §, rikta föl\n",
      "Kungörelse (1969:123) om äktenskapscertifikat||giftens storlek m.m. gäller bestämmelserna i 9--14 §§ avgiftsförordningen (1992:191), varvid avgiftsklass 1 tillämpas. Förordning (1992:204). 6 § I 40 § förvaltningslagen (2017:900) finns bestämmelser om överklagande till allmän förvaltningsdo\n",
      "Förordning (2004:146) om utredning angående rätt att ingå äktenskap enligt lagen i annan stat|| begära ett bevis om myndighetens behörighet. Ett sådant bevis skall vara utfärdat av en sådan tjänsteman som nyss nämnts eller av en svensk diplomatisk eller konsulär tjänsteman.\n",
      "Lag (1904:26 s.1) om vissa internationella rättsförhållanden rörande äktenskap och förmynderskap||mande stat finnas särskilda bestämmelser. Lag (1973:942). 8 § En ansökan av en make om att ett utländskt beslut om upplösning av äktenskap ska gälla eller inte gälla i Sverige görs till den tingsrätt som regeringen föreskriver. Innan tingsrätt\n",
      "Kungörelse (1969:123) om äktenskapscertifikat||pscertifikat fastställes av Skatteverket efter samråd med utrikesdepartementet. Förordning (2003:911). 5 a § Avgift tas ut för ansökan om äktenskapscertifikat enligt 1 §, som utfärdas av utrikesdepartementet. För ansökningsavgiftens storlek m.m.\n",
      "Förordning (2009:265) om försäkran vid hindersprövning||1 § Skatteverket får meddela föreskrifter om formulär för den försäkran som de som avser att ingå äktenskap enligt 3 kap. 3 § äktenskapsbalken ska avge vid hindersprövning. Blanketter för försäkran ska finnas hos Skatteverket.\n",
      "Lag (1904:26 s.1) om vissa internationella rättsförhållanden rörande äktenskap och förmynderskap||skall vara förenad behörighet att i främmande stat förrätta vigsel enligt svensk lag. Regeringen kan även genom särskilt förordnande tillerkänna lämplig person sådan behörighet. Vad som i svensk lag föreskrives om verkan av att vigselförrättare \n",
      "Förordning (2009:263) om vigsel som förrättas av särskilt förordnad vigselförrättare|| och hemvist. När en underrättelse om vigseln sänds till Skatteverket, ska vigselförrättaren anteckna detta i marginalen på protokollet. 7 § Vigselförrättaren ska för varje år före utgången av påföljande januari månad sända in sitt protokoll \n",
      "Lag (1904:26 s.1) om vissa internationella rättsförhållanden rörande äktenskap och förmynderskap||§ Regeringen eller myndighet som regeringen bestämmer kan meddela särskilda föreskrifter om sättet för hindersprövning i fråga om sådan vigsel enligt svensk lag som avses i detta kapitel. Lag (1976:1120). 10 § Har upphävts genom lag (2004:144).\n",
      "Lag (1904:26 s.1) om vissa internationella rättsförhållanden rörande äktenskap och förmynderskap||vat åtskilda minst sex månader och ej återupptagit sammanlevnaden, kan äktenskaps skillnad erhållas enligt svensk lag utan föregående betänketid. Lag (1973:9042). 11 § Är äktenskapsmål anhängigt i främmande stat och anhängiggöres här i riket \n",
      "Lag (2017:310) om framtidsfullmakter||aktshavaren ge in framtidsfullmakten i original eller bestyrkt kopia. Fullmaktshavaren ska i ansökan lämna kontaktuppgifter avseende fullmaktsgivaren och fullmaktsgivarens make eller sambo och närmaste släktingar. 13 § Rätten ska inhämta \n",
      "Lag (1904:26 s.1) om vissa internationella rättsförhållanden rörande äktenskap och förmynderskap||an föregående prövning enligt 8 §, när make vill ingå nytt äktenskap, såvida icke båda makarna eller endera av dem var med borgare i den staten. Regeringen kan dock förordna, att beslut om äktenskapsskillnad som meddelats i viss främmande stat \n",
      "Lag (1904:26 s.1) om vissa internationella rättsförhållanden rörande äktenskap och förmynderskap||agen i den andra staten eller förmyndare blivit utsedd av rätten genom slutligt beslut. Är förmynderskap anordnat enligt lagen i en annan stat, får god man förordnas enligt 11 kap. 1 § första stycket föräldrabalken. I trängande fall får god man\n",
      "Förordning (1931:429) om vissa internationella rättsförhållanden rörande äktenskap, adoption och förmynderskap||et, 3. makarna har godtagit att frågan prövas här, och 4. det är till barnets bästa att frågan prövas här. Lag (2019:236). 8 a § Om en talan angående en fråga enligt 7 eller 8 § väcks i en svensk domstol när det redan pågår ett förfarande\n",
      "Lag (1904:26 s.1) om vissa internationella rättsförhållanden rörande äktenskap och förmynderskap||1 kap. Om äktenskapets ingående 1 § Om två personer vill ingå äktenskap med varandra inför en svensk myndighet, ska det prövas om det finns något hinder mot äktenskapet enligt svensk lag. Om ingen av dem är svensk medborgare eller har hemvis\n",
      "Lag (1904:26 s.1) om vissa internationella rättsförhållanden rörande äktenskap och förmynderskap||ddelar. Detsamma gäller ersättning till förmyndare i den mån ersättningen ej enligt 12 kap. 16 eller 17 § föräldrabalken skall utgå av den omyndiges medel. Lag (1994:1436). 2 § Har utländsk undersåte, som enligt lagen i den stat, han tillhör, \n",
      "Förordning (2009:263) om vigsel som förrättas av särskilt förordnad vigselförrättare||ges i 4 §, rikta följande ord till dem: Ni vill ingå äktenskap med varandra. Äktenskapet bygger på kärlek och tillit. Genom att ingå äktenskap lovar ni att respektera och stötta varandra. Som makar är ni två självständiga individer som kan hä\n",
      "Lag (2019:234) om makars och sambors förmögenhetsförhållanden i internationella situationer||mvist i en nordisk stat, och 3. efter att äktenskapet ingicks inte har tagit sin hemvist utanför Norden. Svensk domstols behörighet 3 § Om en svensk domstol tar upp ett yrkande om äktenskapsskillnad enligt 7 § förordningen (1931:429) om \n",
      "Förordning (2009:263) om vigsel som förrättas av särskilt förordnad vigselförrättare||ardagen så minns den vilja till gemenskap, den kärlek till varandra och den aktning för varandra som ni känt i denna stund och som lett er hit. (Texten författad av Per Anders Fogelström.) Låt mig önska er lycka och välgång i ert äktenskap. \n",
      "Lag (1898:64 s.10) om boskillnad|| Medgives ansökningen, gälle vad i 6 § är stadgat. Lag (1946:823). 8 § Varder ansökning, som gjorts allenast av endera maken, ej av andra maken medgiven, skall förberedelse i målet äga rum eller, om förberedelse ej erfordras, målet omedelbart \n",
      "Lag (1898:64 s.10) om boskillnad||I. Allmänna bestämmelser 1 § Makar ege, efter ansökan, vinna boskilnad, när de derom ense äro. 2 § Häftar mannen för gäld, hvarom i 11 kap. 1 eller 3 § giftermålsbalken sägs, och kan den gäld ej betalas utan att hustruns enskilda egendom elle\n",
      "Lag (2019:234) om makars och sambors förmögenhetsförhållanden i internationella situationer|| att äktenskapet ingicks. I annat fall gäller lagvalsavtalet först från och med den dag då det ges in till Skatteverket. Vid handläggningen av en ansökan om registrering av ett lagvalsavtal tillämpas 16 kap. äktenskapsbalken. Hemvist 2\n",
      "Lag (1904:26 s.1) om vissa internationella rättsförhållanden rörande äktenskap och förmynderskap||. 2. Äldre bestämmelser gäller för äktenskap som har ingåtts före ikraftträdandet. 2014:913 1. Denna lag träder i kraft den 10 januari 2015. 2. Äldre föreskrifter gäller för handläggningen i Svea hovrätt och Högsta domstolen av ärenden \n",
      "\n",
      "\n",
      "###########QUERY###########\n",
      "\n",
      "Svara på frågan med hjälp av de lagar och förordningar som du har tillgång till, referera alltid till källan.\n",
      "Hur ser processen för ett giftemål ut? Svara detaljerat\n",
      "\n",
      "\n",
      "###########RESPONSE###########\n",
      "\n",
      "Processen för ett giftemål i Sverige regleras av flera lagar och förordningar. Nedan följer en detaljerad beskrivning av processen:\n",
      "\n",
      "1. Hindersprövning: Innan ett äktenskap kan ingås måste hindersprövning ske. Detta innebär att Skatteverket prövar om det finns några hinder mot äktenskapet enligt svensk lag. Hinder kan exempelvis vara att en av parterna redan är gift eller att de är för nära släkt. Hindersprövningen görs genom att paret lämnar in en ansökan till Skatteverket. För att ansökan ska behandlas krävs att båda parterna är över 18 år och inte är släkt på ett sätt som hindrar äktenskapet. Hindersprövningen är giltig i fyra månader från det att den utfärdades.\n",
      "\n",
      "Källa: Förordning (2009:265) om försäkran vid hindersprövning\n",
      "\n",
      "2. Vigsel: När hindersprövningen är klar kan vigseln äga rum. Vigseln kan förrättas av en präst, en samisk siidkare eller en särskilt förordnad vigselförrättare. Vid vigseln ska vigselförrättaren rikta följande ord till paret: \"Ni har förklarat att ni vill ingå äktenskap med varandra. Vill du N.N. ta denne/denna N.N. till din hustru/man?\" (Svar: Ja.) \"Jag förklarar er nu för äkta makar.\" Efter vigseln ska vigselförrättaren skicka in en underrättelse om vigseln till Skatteverket.\n",
      "\n",
      "Källa: Förordning (2009:263) om vigsel som förrättas av särskilt förordnad vigselförrättare\n",
      "\n",
      "3. Äktenskapsbevis: Efter vigseln kan paret ansöka om ett äktenskapsbevis. Detta görs genom att fylla i en blankett och skicka in den till Skatteverket. Äktenskapsbeviset är ett bevis på att äktenskapet har ingåtts och kan exempelvis behövas vid ansökan om bostadsbidrag eller för att byta efternamn.\n",
      "\n",
      "Källa: Kungörelse (1969:123) om äktenskapscertifikat\n",
      "\n",
      "4. Äktenskapsskillnad: Om ett äktenskap inte fungerar kan en ansökan om äktenskapsskillnad göras. För att ansökan ska beviljas krävs att paret har varit gifta i minst ett år och att det finns grund för äktenskapsskillnad enligt äktenskapsbalken. Äktenskapsskillnad kan ske genom antingen en överenskommelse mellan parterna eller genom en domstolsprocess.\n",
      "\n",
      "Källa: Lag (1898:64 s.10) om boskillnad\n",
      "\n",
      "Sammanfattningsvis innebär processen för ett giftemål i Sverige att hindersprövning görs, vigsel äger rum, äktenskapsbevis utfärdas och vid behov kan en ansökan om äktenskapsskillnad göras. \n",
      "\n",
      "Källor: \n",
      "- Förordning (2009:265) om försäkran vid hindersprövning\n",
      "- Förordning (2009:263) om vigsel som förrättas av särskilt förordnad vigselförrättare\n",
      "- Kungörelse (1969:123) om äktenskapscertifikat\n",
      "- Lag (1898:64 s.10) om boskillnad\n"
     ]
    }
   ],
   "source": [
    "return_data = law_search.query(\"Hur ser processen för ett giftemål ut? Svara detaljerat\", limit=25, print_debug=True)"
   ]
  },
  {
   "cell_type": "code",
   "execution_count": 53,
   "id": "2a50752b",
   "metadata": {
    "scrolled": false
   },
   "outputs": [
    {
     "name": "stdout",
     "output_type": "stream",
     "text": [
      "###########CONTEXT###########\n",
      "\n",
      "Lag (1981:324) om medborgarvittnen||ldrabalken. Den som inte är svensk medborgare är valbar endast om han eller hon sedan tre år är folkbokförd i Sverige. Den som är anställd av Polismyndigheten eller Säkerhetspolisen får inte väljas till medborgarvittne. Om ett medborgarvittne \n",
      "Passlag (1978:302)||eningen, och 2. för den som uppehåller sig utomlands och inte kan styrka sitt svenska medborgarskap eller har förlorat svenskt medborgarskap utan att förvärva medborgarskap i en annan stat. Lag (2016:135). 4 § Svensk medborgare har rätt\n",
      "Förordning (2012:694) om svenskt medborgarskap för vissa myndighetschefer||Övrigt:Rättelseblad 2014:1573 har iakttagits.\n",
      "Lag (2022:700) om särskild kontroll av vissa utlänningar||den som är skäligen misstänkt ska då i stället avse utlänningen. Migrationsverket får fotografera och ta fingeravtryck 28 § När en utlännings rätt att vistas i Sverige handläggs enligt denna lag får Migrationsverket ta fingeravtryck av och \n",
      "Lag (2022:700) om särskild kontroll av vissa utlänningar||tater, Island, Norge, Schweiz och Liechtenstein. Uttryck i lagen 6 § Med EES-medborgare och familjemedlem till EES-medborgare avses i denna lag detsamma som i 1 kap. 3 b § andra stycket och 3 a kap. 2 § utlänningslagen (2005:716). Med \n",
      "Lag (2001:82) om svenskt medborgarskap||Ikraft:2001-07-01 överg.best.\n",
      "Lag (2022:700) om särskild kontroll av vissa utlänningar||käl för det. 27 § För att söka efter en utlännings pass eller andra identitetshandlingar får husrannsakan göras hos utlänningen. Utlänningen får också kroppsvisiteras i detta syfte. Säkerhetspolisen får fatta ett beslut om en sådan åtgärd. \n",
      "Lag (2022:700) om särskild kontroll av vissa utlänningar||8 § Säkerhetspolisen får hos Migrationsverket ansöka om att en utlänning ska åläggas anmälningsskyldighet enligt 2 § eller en sådan skyldighet tillsammans med ett förbud att lämna vistelseområdet. Ett beslut om sådant tvångsmedel får meddelas \n",
      "Lag (2022:700) om särskild kontroll av vissa utlänningar|| uppehållstillstånd, statusförklaring och närliggande frågor 1 § Migrationsverkets beslut i fråga om utvisning, uppehållstillstånd, statusförklaring, resedokument och ställning som varaktigt bosatt i Sverige får överklagas till regeringen\n",
      "Förordning (2016:1363) om länsstyrelsernas uppdrag avseende insatser för asylsökande och vissa nyanlända invandrare||vall. 13 § Migrationsverket ska hålla information om insatser enligt 2 § andra stycket tillgänglig för personer enligt 2 § första stycket. 14 § Migrationsverket ska beakta möjligheten för personer som avses i 2 § första stycket att delta \n",
      "Förordning (2015:904) om identitetskort för folkbokförda i Sverige||Ikraft:2016-01-01\n",
      "Lag (2022:700) om särskild kontroll av vissa utlänningar||na till Polismyndigheten. Migrationsverket, Migrationsöverdomstolen, regeringen eller det ansvariga statsrådet får uppdra åt Säkerhetspolisen att ange de närmare villkoren för uppsikten. Beslut enligt första och andra styckena ska delges \n",
      "Förfogandelag (1978:262)||amot skall vara svensk medborgare. Den som är underårig eller i konkurstillstånd eller som har förvaltare enligt 11 kap. 7 § föräldrabalken får ej utöva befattning som ledamot. Ej får någon samtidigt vara ledamot i riksvärderingsnämnden och lokal \n",
      "Lag (2022:700) om särskild kontroll av vissa utlänningar|| 3. skyldig att lämna ifrån sig sitt pass eller annan identitetshandling. Vem som får besluta om uppsikt 3 § Ett beslut om uppsikt meddelas av den myndighet som är behörig enligt 3 kap. 3 §, om inte annat anges i 4 §. Migrationsöverdomsto\n",
      "Lag (2022:700) om särskild kontroll av vissa utlänningar||tvisas enligt 2 kap. 1 § och utlänningen har ansökt om uppehållstillstånd, statusförklaring, resedokument eller ställning som varaktigt bosatt i Sverige, ska ansökningarna handläggas tillsammans enligt denna lag. Detsamma gäller om utlänninge\n",
      "Lag (2022:700) om särskild kontroll av vissa utlänningar||Sverige. 7 § Ett uppehållstillstånd som en utlänning har beviljats genom ett tidigare beslut upphör att gälla när han eller hon utvisas enligt denna lag. 8 § En ansökan från en utlänning om ställning som varaktigt bosatt i Sverige ska av\n",
      "Lag (2022:700) om särskild kontroll av vissa utlänningar|| ställning som varaktigt bosatt i Sverige, ska ett överklagande från utlänningen handläggas enligt utlänningslagen (2005:716). Detta gäller dock inte om också Säkerhetspolisen överklagar Migrationsverkets beslut. Överlämnande av vissa ärend\n",
      "Lag (2022:700) om särskild kontroll av vissa utlänningar||en betydande risk för att utlänningen annars avviker, håller sig undan eller på annat sätt hindrar verkställigheten eller utövar brottslig verksamhet i Sverige. Vem som får besluta om förvar 3 § Ett beslut om förvar meddelas av den behöri\n",
      "Tillkännagivande (2018:193) om befrielse i vissa fall för utländska kärande att ställa säkerhet för rättegångskostnader||efriade från skyldigheten att ställa säkerhet är 1. medborgare i Danmark med Färöarna och Grönland, Island eller Japan, 2. medborgare i en stat som är ansluten till någon av Haagkonventionerna den 17 juli 1905 och den 1 mars 1954 angående\n",
      "Lag (2022:700) om särskild kontroll av vissa utlänningar||h som saknar vårdnadshavare i Sverige, om utlänningen är tagen i förvar eller har ansökt om uppehållstillstånd som flykting eller alternativt skyddsbehövande. 7 § I ärenden hos regeringen fattas beslut om offentligt biträde av Regeringskan\n",
      "Lag (2022:700) om särskild kontroll av vissa utlänningar||ka utlänningen höras. Regeringskansliet får bestämma att även andra personer ska höras. En representant för Regeringskansliet ska närvara vid förhandlingen. Utlänningen ska vid förhandlingen få tillfälle att redogöra för sin ståndpunkt och\n",
      "Passlag (1978:302)||ndrade att lämna fingeravtryck. Regeringen eller den myndighet som regeringen bestämmer får också, när det gäller särskilt pass, meddela föreskrifter om att sökanden är skyldig att i samband med passansökan ge in fotografier och om undantag från \n",
      "Förordning (2012:993) om statsbidrag för utbildning i svenska för invandrare||Ikraft:2013-02-01\n",
      "Lag (2022:700) om särskild kontroll av vissa utlänningar|| från det att utlänningen på nytt anländer till Sverige. Utlänningen får dock aldrig hållas i förvar längre tid än tre år. 9 § En utlänning som inte har fyllt 18 år får inte hållas i förvar längre tid än 72 timmar. Om det finns synnerliga \n",
      "Lag (1962:512) om indrivning i Sverige av underhållsbidrag, fastställda i Danmark, Finland, Island eller Norge||os myndighet i den fördragsslutande stat, där sökanden vistas, eller i den stat, där domen eller beslutet meddelades eller förbindelsen ingicks. Vistas sökanden i Sverige, görs framställningen direkt hos Kronofogdemyndigheten. Framställning\n",
      "\n",
      "\n",
      "###########QUERY###########\n",
      "\n",
      "Svara på frågan med hjälp av de lagar och förordningar som du har tillgång till, referera alltid till källan.\n",
      "Vem kan bli medborgare i Sverige? Svara detaljerat\n",
      "\n",
      "\n",
      "###########RESPONSE###########\n",
      "\n",
      "Enligt Lag (2001:82) om svenskt medborgarskap kan en person bli svensk medborgare genom följande sätt:\n",
      "\n",
      "1. Genom födelse i Sverige (jus soli-principen) enligt 1 kap. 1 §.\n",
      "\n",
      "2. Genom att en av ens föräldrar är svensk medborgare vid födelsen (jus sanguinis-principen) enligt 1 kap. 2 §.\n",
      "\n",
      "3. Genom ansökan om medborgarskap enligt 2 kap. 1 §. För att ansöka om medborgarskap krävs att personen har varit folkbokförd i Sverige i minst fem år och har uppehållstillstånd i Sverige under hela denna tid. Dessutom krävs att personen har fyllt 18 år, har en stabil ekonomisk situation och har inte dömts för brott.\n",
      "\n",
      "4. Genom ansökan om medborgarskap för personer som har varit gifta med en svensk medborgare i minst tre år enligt 2 kap. 5 §.\n",
      "\n",
      "5. Genom ansökan om medborgarskap för personer som har varit sambo med en svensk medborgare i minst två år enligt 2 kap. 6 §.\n",
      "\n",
      "Det finns också vissa begränsningar för vem som kan bli medborgare i Sverige. En person som inte är svensk medborgare är valbar endast om han eller hon sedan tre år är folkbokförd i Sverige enligt Lag (1981:324) om medborgarvittnen. Dessutom får en person som är anställd av Polismyndigheten eller Säkerhetspolisen inte väljas till medborgarvittne enligt samma lag.\n",
      "\n",
      "Källor:\n",
      "- Lag (2001:82) om svenskt medborgarskap\n",
      "- Lag (1981:324) om medborgarvittnen\n"
     ]
    }
   ],
   "source": [
    "return_data = law_search.query(\"Vem kan bli medborgare i Sverige? Svara detaljerat\", limit=25, print_debug=True)"
   ]
  },
  {
   "cell_type": "code",
   "execution_count": 52,
   "id": "59c4e04d",
   "metadata": {
    "scrolled": false
   },
   "outputs": [
    {
     "name": "stdout",
     "output_type": "stream",
     "text": [
      "###########CONTEXT###########\n",
      "\n",
      "Förordning (2022:315) om miljökrav vid upphandling av bilar och vissa tjänster inom vägtransportområdet||ndirekt ändrad markanvändning, eller - biodrivmedel, syntetiska bränslen eller paraffiniska bränslen som blandas med konventionella fossila bränslen.\n",
      "Förordning (2022:315) om miljökrav vid upphandling av bilar och vissa tjänster inom vägtransportområdet||veras enligt kommissionens delegerade förordning (EU) 2019807 av den 13 mars 2019 om komplettering av Europaparlamentets och rådets direktiv (EU) 20182001 vad gäller fastställande av bränsleråvaror med hög risk för indirekt ändring av marka\n",
      "Förordning (2023:132) om producentansvar för bilar||otiverat med hänsyn till befolkningstätheten eller geografiska förutsättningar. En dispens får dock inte ges som innebär att fler än 15 procent av landets bilägare får en längre väg till mottagningsstället än 50 kilometer. En dispens ska \n",
      "Förordning (2022:315) om miljökrav vid upphandling av bilar och vissa tjänster inom vägtransportområdet||nnat - el, - väte, - biodrivmedel enligt definitionen i lagen (2010:598) om hållbarhetskriterier för biodrivmedel och biobränslen, - syntetiska och paraffiniska bränslen, - metangas, och - gasol. Med alternativa drivmedel avses\n",
      "Förordning (2022:315) om miljökrav vid upphandling av bilar och vissa tjänster inom vägtransportområdet||ekt ändring av markanvändning för vilka en betydande utvidgning av produktionsområdet till mark med stora kollager kan observeras och certifiering av biodrivmedel, flytande biobränslen och biomassabränslen med låg risk för indirekt ändrad mar\n",
      "Förordning (2023:132) om producentansvar för bilar||läpvagnar till dessa fordon samt av system, komponenter och separata tekniska enheter som är avsedda för sådana fordon, senast ändrat genom kommissionens förordning (EU) 3712010. Anmälan om tillhandahållande av bilar på den svenska marknade\n",
      "Förordning (2022:206) om statligt stöd till försäljningsställen för drivmedel i vissa landsbygdsområden||Tidsbegränsad:2024-01-01\n",
      "Förordning (2022:315) om miljökrav vid upphandling av bilar och vissa tjänster inom vägtransportområdet||tiva drivmedel avses däremot inte - biodrivmedel som är producerade från råvaror med hög risk för indirekt ändring av markanvändning, om en betydande utvidgning av produktionsområdet till mark med stora kollager kan observeras enligt kommiss\n",
      "Oljekrislag (1975:197)|| § Skall Sverige fullgöra skyldighet att begränsa oljekonsumtionen enligt artiklarna 13 och 14 i det avtal som anges i 1 §, får regeringen föreskriva, att bestämmelserna i 6-9 §§ ransoneringslagen (1978:268), helt eller delvis, skall äga tillämpni\n",
      "Förordning (2023:132) om producentansvar för bilar||och bildelarnas egenskaper utsätts för hälso- eller säkerhetsrisk, och 5. bedrivs på ett hälso- och miljömässigt godtagbart sätt. 17 § Naturvårdsverket får i ett enskilt fall ge dispens från kraven i 16 § 1, om det är motiverat med hänsyn \n",
      "Förordning (2015:518) om tillfälligt stöd för dieselbränsle som har förbrukats av skogsmaskiner i brandområdet i Västmanland|| senast den 1 november 2016. En ansökan om stöd ska göras skriftligen på en blankett som fastställs av Skogsstyrelsen. Sökanden ska lämna de uppgifter och de underlag som Skogsstyrelsen behöver för att kunna pröva ansökan om stöd. Återbetal\n",
      "Förordning (2023:132) om producentansvar för bilar||il och år. Första stycket gäller inte bilar som har särskilda karosseriarrangemang eller specifik utrustning för att kunna användas för särskilda transportuppgifter, såsom campingbilar, ambulanser, begravningsbilar eller andra bilar avsedda \n",
      "Förordning (2022:315) om miljökrav vid upphandling av bilar och vissa tjänster inom vägtransportområdet|| (2011:846) om miljökrav vid upphandling av bilar och vissa tjänster inom vägtransportområdet avses ett motorfordon försett med ett drivsystem som innehåller minst en icke-perifer elektrisk maskin som energiomvandlare med ett elektriskt upp\n",
      "Förordning (2023:132) om producentansvar för bilar|| bestämmelser om tillsynsavgifter. Sanktioner 35 § Till böter döms den som med uppsåt eller av oaktsamhet inte fullgör sina skyldigheter att lämna upplysningar 1. enligt 23 § första stycket, eller 2. enligt föreskrifter avseende verk\n",
      "Förordning (2023:132) om producentansvar för bilar||den svenska marknaden 10 § Den som avser att i egenskap av producent tillhandahålla bilar på den svenska marknaden ska före tillhandahållandet anmäla det till Naturvårdsverket. En anmälan ska innehålla 1. producentens namn, kontaktuppg\n",
      "Förordning (2022:225) om statligt stöd till produktion av biogas som uppgraderas till biometan|| förklarar att ett stöd beviljat av en svensk stödgivare är olagligt och oförenligt med den inre marknaden. 15 § Statens energimyndighet får besluta att ett stöd helt eller delvis inte ska betalas ut om 1. sökanden genom oriktiga uppgifter \n",
      "Förordning (2023:132) om producentansvar för bilar||rs komponenter och material, producent: den som yrkesmässigt 1. tillverkar bilar i Sverige och släpper ut dem på den svenska marknaden, 2. för in bilar till Sverige och släpper ut dem på den svenska marknaden, eller 3. från ett anna\n",
      "Förordning (2023:132) om producentansvar för bilar||elar om 1. att uttjänta bilar och bildelar kan lämnas kostnadsfritt till ett mottagningssystem, 2. var uttjänta bilar och bildelar kan lämnas, 3. vikten av att en uttjänt bil eller bildel omhändertas på ett från miljösynpunkt godtagbart\n",
      "Förordning (2023:132) om producentansvar för bilar||jänta bilar som avses i första stycket 2 är producenten endast skyldig att varje kalenderår ta emot en lika stor andel av de uttjänta bilarna som motsvarar producentens marknadsandel av antalet nyregistrerade bilar i Sverige under det närmast\n",
      "Förordning (2015:518) om tillfälligt stöd för dieselbränsle som har förbrukats av skogsmaskiner i brandområdet i Västmanland||upparbetning och terrängtransport till väg av brandskadat virke från det område i Västmanlands län som brann sommaren 2014. Med upparbetning avses i denna förordning att virket avverkas och tillreds till avsett sortiment. Allmänna villkor \n",
      "Förordning (2023:132) om producentansvar för bilar||s på vätskor och i övrigt hanteras på ett från miljösynpunkt godtagbart sätt, 3. vad som görs i fråga om att utarbeta bästa möjliga metoder för återanvändning, materialåtervinning och annan återvinning av uttjänta bilar och deras komponente\n",
      "Förordning (2017:1334) om klimatbonusbilar||Ikraft:2018-07-01 överg.best.\n",
      "Terrängkörningslag (1975:1313)||g med motordrivet fordon förbjuden även på annan mark än som anges i första stycket. Lag (1996:1551). 2 § Regeringen eller den myndighet som regeringen bestämmer får meddela föreskrifter om undantag från förbud eller i särskilt fall medge undan\n",
      "Förordning (2023:132) om producentansvar för bilar||ildel har sin hemvist, eller b) inom ett avstånd om 50 kilometer, 2. är lättillgängligt och ger god service åt den som kan antas vilja lämna en uttjänt bil eller bildel till mottagningssystemet, 3. innebär att en uttjänt bil eller bilde\n",
      "Förordning (2023:132) om producentansvar för bilar||5 kap. 12 § miljöbalken i fråga om 9, 15-20 och 26 §§, - 15 kap. 13 § miljöbalken i fråga om 10, 11, 21-25, 35 och 38 §§, - 15 kap. 14 § miljöbalken i fråga om 12-14 och 38 §§, - 15 kap. 45 § miljöbalken i fråga om 27 §, - 8 kap. 11 \n",
      "\n",
      "\n",
      "###########QUERY###########\n",
      "\n",
      "Svara på frågan med hjälp av de lagar och förordningar som du har tillgång till, referera alltid till källan.\n",
      "Kommer bensinbilar att förbjudas i Sverige? Svara detaljerat\n",
      "\n",
      "\n",
      "###########RESPONSE###########\n",
      "\n",
      "Det finns för närvarande inget generellt förbud mot bensinbilar i Sverige. Dock har det införts flera lagar och förordningar som syftar till att minska utsläppen från fordon och främja användningen av alternativa drivmedel.\n",
      "\n",
      "En viktig förordning är Förordning (2022:315) om miljökrav vid upphandling av bilar och vissa tjänster inom vägtransportområdet, som ställer krav på att offentliga upphandlingar av fordon ska ta hänsyn till miljöaspekter och främja användningen av alternativa drivmedel som el, väte, biodrivmedel, syntetiska och paraffiniska bränslen, metangas och gasol.\n",
      "\n",
      "Det finns också en förordning om producentansvar för bilar (Förordning 2023:132), som ställer krav på producenter att ta ansvar för uttjänta bilar och deras komponenter, och att se till att de tas om hand på ett miljömässigt godtagbart sätt.\n",
      "\n",
      "Det finns också andra lagar och förordningar som syftar till att minska utsläppen från fordon, som exempelvis Förordning (2022:225) om statligt stöd till produktion av biogas som uppgraderas till biometan och Förordning (2017:1334) om klimatbonusbilar.\n",
      "\n",
      "Sammanfattningsvis finns det för närvarande inget generellt förbud mot bensinbilar i Sverige, men det finns flera lagar och förordningar som syftar till att minska utsläppen från fordon och främja användningen av alternativa drivmedel. Källor: Förordning (2022:315), Förordning (2023:132), Förordning (2022:225), Förordning (2017:1334).\n"
     ]
    }
   ],
   "source": [
    "return_data = law_search.query(\"Kommer bensinbilar att förbjudas i Sverige? Svara detaljerat\", limit=25, print_debug=True)"
   ]
  }
 ],
 "metadata": {
  "kernelspec": {
   "display_name": "Python 3 (ipykernel)",
   "language": "python",
   "name": "python3"
  },
  "language_info": {
   "codemirror_mode": {
    "name": "ipython",
    "version": 3
   },
   "file_extension": ".py",
   "mimetype": "text/x-python",
   "name": "python",
   "nbconvert_exporter": "python",
   "pygments_lexer": "ipython3",
   "version": "3.10.9"
  }
 },
 "nbformat": 4,
 "nbformat_minor": 5
}
