{
 "cells": [
  {
   "cell_type": "code",
   "execution_count": 1,
   "id": "6fd8e35b",
   "metadata": {},
   "outputs": [],
   "source": [
    "import sys\n",
    "sys.path.append(\"src\")\n",
    "%load_ext autoreload\n",
    "%autoreload 2\n",
    "import pandas as pd\n",
    "from scraping import scan_swedish_legislation_parallel\n",
    "from vector_db import VectorDatabaseWeaviate\n",
    "from embedd import split_text, EmbedderOpenAI, EmbedderSwedishLegislation\n",
    "from search import SwedishLegislationSearch"
   ]
  },
  {
   "cell_type": "markdown",
   "id": "eade7a21",
   "metadata": {},
   "source": [
    "## Scrap Swedish government office for all laws and regulations"
   ]
  },
  {
   "cell_type": "code",
   "execution_count": 2,
   "id": "e614645c",
   "metadata": {
    "scrolled": true
   },
   "outputs": [
    {
     "name": "stderr",
     "output_type": "stream",
     "text": [
      "100%|███████████████████████████████████████| 4539/4539 [01:42<00:00, 44.37it/s]\n"
     ]
    }
   ],
   "source": [
    "df = scan_swedish_legislation_parallel()\n",
    "df.to_pickle(\"data/laws.pickle\")"
   ]
  },
  {
   "cell_type": "code",
   "execution_count": 3,
   "id": "7cdf1573",
   "metadata": {},
   "outputs": [],
   "source": [
    "df = pd.read_pickle(\"data/laws.pickle\")"
   ]
  },
  {
   "cell_type": "markdown",
   "id": "861bb0c2",
   "metadata": {},
   "source": [
    "## Set up embedding"
   ]
  },
  {
   "cell_type": "code",
   "execution_count": 2,
   "id": "dc010a4e",
   "metadata": {},
   "outputs": [],
   "source": [
    "if 0: # For debuging.. \n",
    "    df = pd.read_pickle(\"data/laws.pickle\").sample(2)\n",
    "\n",
    "df = pd.read_pickle(\"data/laws.pickle\")\n",
    "\n",
    "embedder = EmbedderSwedishLegislation(\n",
    "    df=df,\n",
    "    embedd_column=\"content\",\n",
    "    text_max_length=1500,\n",
    "    text_overlap=150,\n",
    "    context_columns=[\"title\"],\n",
    ")\n",
    "embedder.setup()"
   ]
  },
  {
   "cell_type": "code",
   "execution_count": null,
   "id": "ea9c7016",
   "metadata": {},
   "outputs": [],
   "source": [
    "# Calculate the cost for the embedding\n",
    "(embedder._df.n_tokens.sum() / 1000) * 0.0004"
   ]
  },
  {
   "cell_type": "code",
   "execution_count": 74,
   "id": "9191ed84",
   "metadata": {},
   "outputs": [
    {
     "name": "stderr",
     "output_type": "stream",
     "text": [
      "9791it [3:43:23,  1.37s/it]\n"
     ]
    }
   ],
   "source": [
    "# Run the embedder\n",
    "embedder.embedd(1000, timeout=1.01)\n",
    "embedder._df.to_pickle(\"data/processed.pickle\")"
   ]
  },
  {
   "cell_type": "code",
   "execution_count": 3,
   "id": "88166b53",
   "metadata": {},
   "outputs": [],
   "source": [
    "embedder._df = pd.read_pickle(\"data/processed.pickle\")"
   ]
  },
  {
   "cell_type": "markdown",
   "id": "13ec315c",
   "metadata": {},
   "source": [
    "## Set up vector database"
   ]
  },
  {
   "cell_type": "code",
   "execution_count": 5,
   "id": "84627c57",
   "metadata": {},
   "outputs": [],
   "source": [
    "class_obj = VectorDatabaseWeaviate.setup_class_object_structure(\n",
    "    class_name=\"Swedish_legislation\",\n",
    "    names=[\n",
    "        \"SFS_number\", \"title\", \"issuer\", \"content\"\n",
    "    ],\n",
    "    data_types=[\"text\"] * 6,\n",
    "    description=\"Holds Swedish legislation\"\n",
    ")\n",
    "\n",
    "vector_db = VectorDatabaseWeaviate(\n",
    "    name=\"Swedish_legislation\",\n",
    "    url=\"http://weaviate:8080\",\n",
    "    schema=class_obj,\n",
    ")"
   ]
  },
  {
   "cell_type": "code",
   "execution_count": 3,
   "id": "261d4b93",
   "metadata": {},
   "outputs": [],
   "source": [
    "# Clear the vector datasbase \n",
    "if 0:\n",
    "    vector_db.redo()"
   ]
  },
  {
   "cell_type": "code",
   "execution_count": 16,
   "id": "e3295885",
   "metadata": {},
   "outputs": [
    {
     "name": "stderr",
     "output_type": "stream",
     "text": [
      "9791it [00:16, 595.09it/s]\n"
     ]
    }
   ],
   "source": [
    "# Add the embedding vectors to the vector database\n",
    "vector_db.populate(\n",
    "    embedder=embedder,\n",
    "    batch_size=10,\n",
    ")"
   ]
  },
  {
   "cell_type": "markdown",
   "id": "ab4a7837",
   "metadata": {},
   "source": [
    "## Set up the semantic search with chat interface"
   ]
  },
  {
   "cell_type": "code",
   "execution_count": 4,
   "id": "a219f806",
   "metadata": {},
   "outputs": [],
   "source": [
    "from search import SwedishLegislationSearch"
   ]
  },
  {
   "cell_type": "code",
   "execution_count": 6,
   "id": "73fc96a6",
   "metadata": {},
   "outputs": [],
   "source": [
    "law_search = SwedishLegislationSearch(\n",
    "    embedd_function=EmbedderSwedishLegislation.embedd_single,\n",
    "    vector_db=vector_db,\n",
    ")"
   ]
  },
  {
   "cell_type": "code",
   "execution_count": 97,
   "id": "8a204018",
   "metadata": {
    "scrolled": false
   },
   "outputs": [
    {
     "name": "stdout",
     "output_type": "stream",
     "text": [
      "###########CONTEXT###########\n",
      "\n",
      "Förordning (2017:1249) om medinflytande för totalförsvarspliktiga|| respektive pluton, kompani, förband eller enhet ska föra de totalförsvarspliktigas talan gentemot chefen på samma ställe. 7 § Den chef som avses i 6 § ska regelbundet samla de totalförsvarspliktiga för information om och utvärdering av verksamheten. Vid dessa tillfällen ska chefen eller befattningshavare som denne har utsett vara ordförande och de totalförsvarspliktiga vara i majoritet. 8 § En del av den tid som avsatts för information och utvärdering enligt 7 § får användas av de totalförsvarspliktiga för egna överläggningar under ledning av den förtroendevalda. 9 § De förtroendevalda ska ges tillfälle att, efter överenskommelse med ansvarig chef, få samlas för förberedande sammanträde på tjänstetid. Medinflytande på central nivå 10 § För totalförsvarspliktiga som genomgår grundutbildning ska det årligen anordnas en kongress. Vid kongressen ska ombud för de totalförsvarspliktiga delta. De ledamöter som utses med stöd av 16 § får anordna kongressen. Om dessa av något skäl inte anordnar någon kongress ska Försvarsmakten i samråd med Myndigheten för samhällsskydd och beredskap i stället anordna kongressen. 11 § Kongressens syfte är att ge ombuden tillfälle att diskutera frågor av betydelse för de totalförsvarspliktiga. Kongressen leds av de totalförsvarspliktiga. 12 § Ombuden vid kongressen ska utses genom direkta val av dem som fullgör grundutbildning enligt lagen om totalförsvarsplikt. Valet ska genomföras på tj\n",
      "Kungörelse (1958:262) om tillämpning av lagen (1943:881) om polisens ställning under krig||1 § Varje polisman är under krig skyldig att i enlighet med vad som sägs i denna kungörelse delta i rikets försvar. Förordning (2014:1110). 2 § En polisman som varaktigt tjänstgör vid Säkerhetspolisen får tas i anspråk för rikets försvar endast i den mån krigshändelserna gör det absolut nödvändigt. Förordning (2014:1110). 3 § Har upphävts genom förordning (2014:1110). 4 § En polisman, som inte har befriats från försvarsplikten, ska under krig bära uniform under såväl arbete som ledig tid. Polismyndigheten kan dock medge en polisman den anpassning av skyldigheten att vara uniformerad som behövs med hänsyn till hans eller hennes arbetsuppgifter. Förordning (2014:1110). 5 § När omständigheterna kräver det bör en försvarspliktig polisman, som är uniformerad, ingripa mot mindre grupper av fientliga soldater, även om order om det inte har getts. Har ett ingripande gjorts, ska Försvarsmakten omedelbart underrättas. Förordning (2014:1110). 6 § Om polisiär medverkan är nödvändig för att avvärja ett fientligt angrepp, får Försvarsmakten begära medverkan av Polismyndigheten. Myndigheten får avslå en sådan begäran endast om polismän redan fullgör nödvändiga civila försvarsuppgifter eller medverkan allvarligt skulle äventyra den allmänna ordningen och säkerheten. När den begärda uppgiften har slutförts får Försvarsmakten inte förfoga över polismännen om inte Polismyndigheten har godkänt en ny begäran om medverkan. Förordning (2014:1110). 7 § Har\n",
      "Förfogandelag (1978:262)||Inledande bestämmelser 1 § Kommer riket i krig, träder 4 - 6 §§ i tillämpning. 2 § Regeringen får föreskriva att 4 - 6 §§ helt eller delvis skall tillämpas från tidpunkt som regeringen bestämmer, 1. om Sverige är i krigsfara, 2. om det råder sådana utomordentliga förhållanden som är föranledda av att det är krig utanför Sveriges gränser eller av att Sverige har varit i krig eller krigsfara och om det till följd av dessa förhållanden föreligger knapphet eller betydande fara för knapphet inom riket på egendom av vikt för totalförsvaret eller folkförsörjningen, 3. om det är nödvändigt att med hänsyn till försvarsberedskapen inkalla totalförsvarspliktiga till tjänstgöring med stöd av 4 kap. 7 eller 8 § lagen (1994:1809) om totalförsvarsplikt. Föreskrift enligt första stycket skall underställas riksdagens prövning inom en månad från det den utfärdades. Sker ej underställning eller godkänner riksdagen ej föreskriften inom två månader från det underställning skedde, upphör föreskriften att gälla. Lag (1994:1813). 3 § Föreligger ej längre förhållande som avses i 1 § eller 2 § första stycket, skall regeringen föreskriva att tillämpningen av 4 - 6 §§ skall upphöra. Förfogande 4 § För att tillgodose totalförsvarets eller folkförsörjningens ofrånkomliga behov av egendom eller tjänster, som icke utan olägenhet kan tillgodoses på annat sätt, får för statens eller annans räkning förfogande ske enligt denna lag. Förfogande får icke riktas mot st\n",
      "Förordning (2017:1249) om medinflytande för totalförsvarspliktiga||buden vid kongressen ska utses genom direkta val av dem som fullgör grundutbildning enligt lagen om totalförsvarsplikt. Valet ska genomföras på tjänstetid. 13 § Valet till kongressen får överklagas av dem som fullgör värnplikt till Försvarsmakten och av dem som fullgör civilplikt till Myndigheten för samhällsskydd och beredskap. Överklagandet ska göras inom en vecka från det att protokoll över valresultatet har anslagits i enlighet med vad Försvarsmakten för värnpliktiga respektive Myndigheten för samhällsskydd och beredskap för civilpliktiga föreskrivit. Beslut som fattats av Försvarsmakten respektive Myndigheten för samhällsskydd och beredskap får inte överklagas. 14 § Varje totalförsvarspliktig som fullgör grundutbildning har rätt att lämna förslag som ska behandlas på kongressen. 15 § De totalförsvarspliktigas deltagande i kongressen ska anses som en tjänsteuppgift. 16 § Ombuden vid kongressen får bland sig utse högst fem totalförsvarspliktiga med uppgift att under det närmaste året efter kongressen företräda de totalförsvarspliktiga. Högst två av de avgående ledamöterna får väljas om. 17 § Avgående ledamöter får tjänstgöra för att skola in nya ledamöter under sammanlagt högst 20 veckor. 18 § Den grupp av ledamöter som utses enligt 16 § ska vara administrativt ansluten till Försvarsmakten. Den ska genom Försvarsmaktens försorg ha tillgång till kansli och kanslistöd. 19 § Ledamöterna har rätt att fullgöra återstå\n",
      "Förordning (2022:524) om statliga myndigheters beredskap||pgifter inför och vid höjd beredskap 10 § Varje myndighet ska i sin verksamhet beakta totalförsvarets krav. I detta ingår att planera för att myndigheten vid höjd beredskap ska fortsätta sin verksamhet så långt det är möjligt med hänsyn till tillgången på personal och förhållandena i övrigt. Myndigheternas planering för totalförsvaret ska ske i samverkan med de övriga statliga myndigheter, kommuner, regioner, sammanslutningar och näringsidkare som är berörda. 11 § Personal som är anställd hos en myndighet och som inte tas i anspråk i totalförsvaret i övrigt får, med stöd av anställningsavtalet, krigsplaceras vid myndigheten. Personal som är krigsplacerad vid myndigheten med stöd av anställningsavtalet och personal som kan komma att beordras att tjänstgöra hos någon annan myndighet än den där den är anställd, ska genom myndighetens försorg ges skriftligt besked om sin krigsplacering eller avsedda tjänstgöring. Beskedet ska innehålla uppgift om inställelseplats. Varje myndighet ska ansvara för att personal som är krigsplacerad vid myndigheten får den utbildning och övning som behövs för att den ska kunna utföra sina uppgifter vid höjd beredskap. Informationsskyldighet 12 § Varje myndighet ska på förfrågan från Regeringskansliet lämna den information som behövs för samlade lägesbilder. Varje myndighet ska även på förfrågan från Myndigheten för samhällsskydd och beredskap lämna den information som behövs för att Myndi\n",
      "\n",
      "\n",
      "###########QUERY###########\n",
      "\n",
      "Svara på frågan med hjälp av de lagar och förordningar som du har tillgång till, referera alltid till källan.\n",
      "Vem har befogenheter att starta ett krig? Vem har ansvar att leda de väpnade styrkorna vid ett krig? Svara detaljerat\n",
      "\n",
      "\n",
      "###########RESPONSE###########\n",
      "\n",
      "Enligt 2 kap. 1 § regeringsformen är det riksdagen som beslutar om krig och fred. Regeringen har dock befogenhet att vidta nödvändiga åtgärder för att försvara riket mot angrepp (2 kap. 2 § regeringsformen). \n",
      "\n",
      "Vid ett krig är det Försvarsmakten som har ansvar för att leda de väpnade styrkorna (2 kap. 3 § regeringsformen). Försvarsmakten leds av en överbefälhavare som utses av regeringen (2 kap. 4 § regeringsformen). \n",
      "\n",
      "Det är också viktigt att notera att vid ett krig är det totalförsvaret som träder i kraft. Totalförsvaret innebär att alla samhällets resurser, både civila och militära, mobiliseras för att försvara riket (1 kap. 1 § lagen om totalförsvar). Totalförsvaret leds av en särskild myndighet, Myndigheten för samhällsskydd och beredskap (1 kap. 3 § lagen om totalförsvar). \n",
      "\n",
      "Källor: \n",
      "- Regeringsformen (2010:1408)\n",
      "- Lagen om totalförsvar (1994:1809)\n"
     ]
    }
   ],
   "source": [
    "return_data = law_search.query(\"Vem har befogenheter att starta ett krig? Vem har ansvar att leda de väpnade styrkorna vid ett krig? Svara detaljerat\", limit=5, print_debug=True)"
   ]
  },
  {
   "cell_type": "code",
   "execution_count": 72,
   "id": "995d16bf",
   "metadata": {},
   "outputs": [
    {
     "name": "stdout",
     "output_type": "stream",
     "text": [
      " \n",
      "Frågan om vem som har befogenhet att starta ett krig och vem som har ansvar att leda de väpnade styrkorna vid ett krig kan variera beroende på vilket land eller organisation vi talar om.\n",
      "\n",
      "I allmänhet är det dock vanligt att beslutet om att starta ett krig fattas av statens högsta beslutsfattare, till exempel presidenten eller premiärministern, med stöd av regeringen och/eller parlamentet. I en del länder kan det även krävas att beslutet om krigsförklaringen godkänns av en domstol eller annan oberoende institution.\n",
      "\n",
      "När det gäller vem som har ansvar att leda de väpnade styrkorna vid ett krig är det vanligtvis landets överbefälhavare eller högsta militära ledare. I vissa länder kan det också finnas en särskild minister eller byrå som ansvarar för försvar och militära frågor. Under själva kriget kan det finnas flera nivåer av militära befälhavare som ansvarar för olika aspekter av krigföringen, till exempel marktrupper, flyg eller sjöstridskrafter.\n",
      "\n"
     ]
    }
   ],
   "source": [
    "# chat-gpt-3.5 reply\n",
    "s = ''' \n",
    "Frågan om vem som har befogenhet att starta ett krig och vem som har ansvar att leda de väpnade styrkorna vid ett krig kan variera beroende på vilket land eller organisation vi talar om.\n",
    "\n",
    "I allmänhet är det dock vanligt att beslutet om att starta ett krig fattas av statens högsta beslutsfattare, till exempel presidenten eller premiärministern, med stöd av regeringen och/eller parlamentet. I en del länder kan det även krävas att beslutet om krigsförklaringen godkänns av en domstol eller annan oberoende institution.\n",
    "\n",
    "När det gäller vem som har ansvar att leda de väpnade styrkorna vid ett krig är det vanligtvis landets överbefälhavare eller högsta militära ledare. I vissa länder kan det också finnas en särskild minister eller byrå som ansvarar för försvar och militära frågor. Under själva kriget kan det finnas flera nivåer av militära befälhavare som ansvarar för olika aspekter av krigföringen, till exempel marktrupper, flyg eller sjöstridskrafter.\n",
    "'''\n",
    "print(s)"
   ]
  },
  {
   "cell_type": "code",
   "execution_count": 81,
   "id": "3fb521e7",
   "metadata": {
    "scrolled": false
   },
   "outputs": [
    {
     "name": "stdout",
     "output_type": "stream",
     "text": [
      "###########CONTEXT###########\n",
      "\n",
      "Lag (1904:26 s.1) om vissa internationella rättsförhållanden rörande äktenskap och förmynderskap||1 kap. Om äktenskapets ingående 1 § Om två personer vill ingå äktenskap med varandra inför en svensk myndighet, ska det prövas om det finns något hinder mot äktenskapet enligt svensk lag. Om ingen av dem är svensk medborgare eller har hemvist i Sverige, ska det dessutom prövas att var och en av dem har rätt att ingå äktenskapet enligt lagen i en efter eget val angiven stat där han eller hon antingen är medborgare eller har hemvist. Om båda begär det och det finns särskilda skäl, får dock prövningen ske med tillämpning av enbart svensk lag även i ett sådant fall. Lag (2009:256). 2 § Har upphävts genom lag (2004:144). 3 § Har upphävts genom lag (2004:144). 4 § När äktenskap skall ingås inför svensk myndighet här i riket, tillämpas svensk lag i fråga om vigsel. Lag (1973:942). 5 § Regeringen kan bestämma, att med diplomatisk eller konsulär tjänst eller med befattning som präst skall vara förenad behörighet att i främmande stat förrätta vigsel enligt svensk lag. Regeringen kan även genom särskilt förordnande tillerkänna lämplig person sådan behörighet. Vad som i svensk lag föreskrives om verkan av att vigselförrättare förfarit oriktigt vid vigsel här i riket eller överskridit sin behörighet äger motsvarande tillämpning, när svensk vigselförrättare viger i främmande stat. Lag (1976:1120). 6 § Den som enligt främmande lag är behörig att förrätta vigsel får i fall som regeringen bestämmer viga här i riket med tillämpning av nämnda lag. \n",
      "Lag (1904:26 s.1) om vissa internationella rättsförhållanden rörande äktenskap och förmynderskap||. om parterna inte var närvarande samtidigt vid äktenskapets ingående och minst en av dem då var svensk medborgare eller hade hemvist i Sverige. Första stycket gäller inte om båda parterna är över 18 år och det finns synnerliga skäl att erkänna äktenskapet. Lag (2021:465). 9 § Regeringen eller myndighet som regeringen bestämmer kan meddela särskilda föreskrifter om sättet för hindersprövning i fråga om sådan vigsel enligt svensk lag som avses i detta kapitel. Lag (1976:1120). 10 § Har upphävts genom lag (2004:144). 2 kap. Har upphävts genom lag (1973:942). 3 kap. Om äktenskapsmål m.m. 1 § Äktenskapsmål är mål om äktenskapsskillnad och mål där det är tvist om personerna är förenade i äktenskap med varandra. Lag (2009:256). 2 § Äktenskapsmål får tas upp av svensk domstol, om 1. båda makarna är svenska medborgare, 2. käranden är svensk medborgare och har hemvist här i riket eller tidigare har haft hemvist här sedan han eller hon fyllt arton år, 3. käranden inte är svensk medborgare men har hemvist här i riket sedan minst ett år, 4. svaranden har hemvist här i riket, 5. saken rör ogiltighet av vigsel som har förrättats av svensk myndighet, eller 6. det i annat fall än som avses i 1–5 finns särskilda skäl att talan prövas här i riket, under förutsättning att en av makarna är svensk medborgare eller käranden inte kan få sin talan prövad i den stat där han eller hon är medborgare eller har hemvist. Lag (2009:256). 3 § \n",
      "Lag (1904:26 s.1) om vissa internationella rättsförhållanden rörande äktenskap och förmynderskap|| 30 april 2004, om den person som avser att ingå äktenskap är under 18 år eller fråga är om äktenskap mellan halvsyskon. 2011:604 1. Denna lag träder i kraft den 18 juni 2011. 2. Har en fråga om underhåll tagits upp i ett äktenskapsmål före ikraftträdandet, går inte svensk domstols behörighet förlorad och tillämpas 3 kap. 6 § i sin äldre lydelse. 2014:379 1. Denna lag träder i kraft den 1 juli 2014. 2. Äldre bestämmelser gäller för äktenskap som har ingåtts före ikraftträdandet. 2014:913 1. Denna lag träder i kraft den 10 januari 2015. 2. Äldre föreskrifter gäller för handläggningen i Svea hovrätt och Högsta domstolen av ärenden som har inletts i hovrätten före ikraftträdandet. 2018:1973 1. Denna lag träder i kraft den 1 januari 2019. 2. Äldre bestämmelser gäller för äktenskap som har ingåtts före ikraftträdandet. Detta gäller dock inte om frågan om erkännande prövas innan båda parterna har fyllt 18 år. 2021:465 1. Denna lag träder i kraft den 1 juli 2021. 2. Äldre bestämmelser gäller för äktenskap som har registrerats av Skatteverket i folkbokföringsdatabasen före ikraftträdandet.\n",
      "Förordning (2009:263) om vigsel som förrättas av särskilt förordnad vigselförrättare||ad förrättare ska upphöra att gälla. 2. Äldre bestämmelser gäller fortfarande för registrering av partnerskap som förrättats före den 1 maj 2009.\n",
      "Förordning (2009:263) om vigsel som förrättas av särskilt förordnad vigselförrättare||1 § Bestämmelserna i denna förordning gäller vigsel som förrättas av den som länsstyrelsen har förordnat till vigselförrättare. 2 § Länsstyrelsen beslutar om tjänstgöringstiden för vigselförrättaren. 3 § Tid och plats för vigsel bestäms av vigselförrättaren efter samråd med paret. 4 § Vid vigsel ska vigselförrättaren rikta följande ord till paret: Ni har förklarat att ni vill ingå äktenskap med varandra. Vill du N.N. ta dennadenne N.N. till din hustruman? (Svar: Ja.) Vill du N.N. ta dennadenne N.N. till din hustruman? (Svar: Ja.) Jag förklarar er nu för äkta makar. 5 § Om paret särskilt begär det kan vigselförrättaren, i stället för det som anges i 4 §, rikta följande ord till dem: Ni vill ingå äktenskap med varandra. Äktenskapet bygger på kärlek och tillit. Genom att ingå äktenskap lovar ni att respektera och stötta varandra. Som makar är ni två självständiga individer som kan hämta styrka ur er gemenskap. Eftersom ni har förklarat att ni vill ingå äktenskap med varandra, frågar jag: Vill du N.N. ta dennadenne N.N. till din hustruman att älska hennehonom i nöd och lust? (Svar: Ja.) Vill du N.N. ta dennadenne N.N. till din hustruman att älska hennehonom i nöd och lust? (Svar: Ja.) (Paret kan växla ringar.) Jag förklarar er nu för äkta makar. När ni nu går ut i livet och åter till vardagen så minns den vilja till gemenskap, den kärlek till varandra och den aktning för varandra som ni känt i denna s\n",
      "\n",
      "\n",
      "###########QUERY###########\n",
      "\n",
      "Svara på frågan med hjälp av de lagar och förordningar som du har tillgång till, referera alltid till källan.\n",
      "Vem kan ej gifta sig med varandra? Svara detaljerat\n",
      "\n",
      "\n",
      "###########RESPONSE###########\n",
      "\n",
      "Enligt Äktenskapsbalken (1987:230) 1 kap. 4 § får inte två personer ingå äktenskap med varandra om de är släkt med varandra på ett sätt som hindrar äktenskap enligt 4 kap. 1 § ÄktB. Detta innebär att personer som är närmare släkt än kusiner inte får gifta sig med varandra. \n",
      "\n",
      "Enligt samma paragraf får inte heller två personer ingå äktenskap med varandra om någon av dem är gift eller registrerad partner med någon annan. \n",
      "\n",
      "Vidare finns det även andra hinder mot äktenskap som kan vara relevanta i vissa fall, såsom om någon av parterna är under 18 år eller om det finns synnerliga skäl att inte erkänna äktenskapet. \n",
      "\n",
      "Lagen om vissa internationella rättsförhållanden rörande äktenskap och förmynderskap (1904:26) reglerar även att det ska prövas om det finns något hinder mot äktenskapet enligt svensk lag och att var och en av parterna måste ha rätt att ingå äktenskapet enligt lagen i en efter eget val angiven stat där han eller hon antingen är medborgare eller har hemvist. \n",
      "\n",
      "Referenser:\n",
      "- Äktenskapsbalken (1987:230) 1 kap. 4 § och 4 kap. 1 §\n",
      "- Lagen om vissa internationella rättsförhållanden rörande äktenskap och förmynderskap (1904:26) 1 kap. 1 §\n"
     ]
    }
   ],
   "source": [
    "return_data = law_search.query(\"Vem kan ej gifta sig med varandra? Svara detaljerat\", limit=5, print_debug=True)"
   ]
  },
  {
   "cell_type": "code",
   "execution_count": 79,
   "id": "f133478f",
   "metadata": {},
   "outputs": [
    {
     "name": "stdout",
     "output_type": "stream",
     "text": [
      "####CONTEXT####\n",
      "\n",
      "Lag (2022:700) om särskild kontroll av vissa utlänningar|| avviker, håller sig undan eller på annat sätt hindrar verkställigheten eller utövar brottslig verksamhet i Sverige, eller 2. utlänningens identitet är oklar. 2 § En utlänning som inte har fyllt 18 år får tas i förvar, om det 1. är sannolikt att ett beslut om utvisning enligt 2 kap. 1 § kommer att meddelas, eller 2. finns ett beslut om utvisning enligt 2 kap. 1 § och förvar behövs för att förbereda eller genomföra verkställighet av beslutet. Utlänningen får dock tas i förvar endast om det finns en betydande risk för att utlänningen annars avviker, håller sig undan eller på annat sätt hindrar verkställigheten eller utövar brottslig verksamhet i Sverige. Vem som får besluta om förvar 3 § Ett beslut om förvar meddelas av den behöriga myndigheten, om inte annat följer av 4 §. Behörig myndighet är Migrationsverket, om inte något annat anges i tredje eller fjärde stycket. Regeringen är behörig myndighet från det att ett överklagande av ett beslut om utvisning har tagits emot av Regeringskansliet och till dess regeringen har avslutat handläggningen av överklagandet. Säkerhetspolisen är behörig myndighet från det att myndigheten har tagit emot ett beslut om utvisning för verkställighet till dess det har verkställts. 4 § När regeringen är behörig myndighet beslutar det ansvariga statsrådet om förvar. Regeringen får dock besluta att en utlänning fortsatt ska vara tagen i förvar när regeringen omprövar ett beslut\n",
      "Lag (1981:324) om medborgarvittnen||1 § För att tillgodose allmänhetens intresse av insyn i polisverksamheten får en kommun utse trovärdiga personer att som medborgarvittnen följa Polismyndighetens arbete inom det län till vilket kommunen hör. Lag (2014:586). 2 § Medborgarvittnen väljs av kommunfullmäktige till det antal och för den tid som fullmäktige bestämmer. Valet ska vara proportionellt, om det begärs av minst så många ledamöter som motsvarar den kvot som erhålls om antalet närvarande ledamöter delas med det antal personer som valet avser, ökat med 1. Om kvoten är ett brutet tal, ska den avrundas till närmast högre hela tal. Bestämmelser om förfarandet vid sådant proportionellt val finns i lagen (2022:629) om proportionella val i kommuner och regioner. Lag (2022:635). 3 § Valbar till medborgarvittne är den som är folkbokförd inom kommunen och som inte är underårig eller har förvaltare enligt 11 kap. 7 § föräldrabalken. Den som inte är svensk medborgare är valbar endast om han eller hon sedan tre år är folkbokförd i Sverige. Den som är anställd av Polismyndigheten eller Säkerhetspolisen får inte väljas till medborgarvittne. Om ett medborgarvittne upphör att vara valbar, förfaller uppdraget genast. Lag (2014:586). 4 § Bestämmelser om medborgarvittnenas tjänstgöring meddelas av kommunen efter samråd med Polismyndigheten. Har en annan kommun inom länet utsett medborgarvittnen, ska samråd äga rum även med denna. Lag (2014:586). 5 § Har medborgarvittnen utsetts ska \n",
      "Passlag (1978:302)||jänstepass eller diplomatpass. Regeringen eller den myndighet som regeringen bestämmer får meddela ytterligare föreskrifter om särskilt pass. Det kan då föreskrivas att ett sådant pass får utfärdas 1. som annat särskilt pass än de som anges i första meningen, och 2. för den som uppehåller sig utomlands och inte kan styrka sitt svenska medborgarskap eller har förlorat svenskt medborgarskap utan att förvärva medborgarskap i en annan stat. Lag (2016:135). 4 § Svensk medborgare har rätt att på ansökan erhålla vanligt pass, om annat ej följer av denna lag. Pass får återkallas endast på grunder som anges i denna lag. 5 § En svensk medborgare får inte resa ut ur riket utan att medföra giltigt pass. Första stycket gäller inte 1. mönstrat sjöfolk på fartyg under tjänstgöring ombord på fartyget eller fiskare under yrkesutövning, 2. medlem av besättning på luftfartyg under tjänstgöring ombord på luftfartyget, om han eller hon har flygcertifikat eller därmed jämförlig handling, 3. den som är medborgare även i en annan stat än Sverige och som medför legitimationshandling som gäller som pass och är utfärdad av en myndighet i den staten, 4. den som reser till någon av de stater mot vilka gränskontroll inte genomförs enligt Europaparlamentets och rådets förordning (EU) 2016399 av den 9 mars 2016 om en unionskodex om gränspassage för personer (kodex om Schengengränserna), eller 5. den som reser till en annan stat inom Europe\n",
      "Lag (2022:700) om särskild kontroll av vissa utlänningar|| får regeringen upphäva det överklagade beslutet och överlämna ärendet till Migrationsverket för handläggning. Detta gäller dock inte när det gäller sådana ansökningar om uppehållstillstånd som avses i 2 kap. 9 § första stycket. 18 § Om regeringen beslutar att en utlänning inte ska utvisas och utlänningen har ansökt om uppehållstillstånd, statusförklaring, resedokument eller ställning som varaktigt bosatt i Sverige, får regeringen överlämna ärendet i dessa delar till Migrationsverket för prövning enligt utlänningslagen (2005:716). Det framgår av 2 kap. 9 § tredje stycket att regeringen i vissa fall ska överlämna en ansökan om uppehållstillstånd till Migrationsverket när regeringen beslutar att en utlänning inte ska utvisas. Rättsprövning 19 § Enligt 2 a § lagen (2006:304) om rättsprövning av vissa regeringsbeslut har en EES-medborgare eller en familjemedlem till en sådan medborgare rätt att hos Högsta förvaltningsdomstolen ansöka om rättsprövning av ett beslut om utvisning enligt denna lag. Nöjdförklaring 20 § En utlänning som har rätt att överklaga ett beslut om utvisning kan förklara att han eller hon avstår från att överklaga beslutet med tillhörande återreseförbud (nöjdförklaring). 21 § En nöjdförklaring lämnas inför Migrationsverket. En nöjdförklaring får också lämnas inför 1. Polismyndigheten, eller 2. chefen för en kriminalvårdsanstalt eller chefen för ett häkte eller någon annan tjänsteman där som \n",
      "Förordning (2017:820) om etableringsinsatser för vissa nyanlända invandrare||Ikraft:2018-01-01 överg.best.\n",
      "\n",
      "\n",
      "####QUERY####\n",
      "\n",
      "Vem kan bli medborgare? Svara detaljerat\n",
      "\n",
      "\n",
      "####RESPONSE####\n",
      "\n",
      "Enligt 2 kap. 1 § första stycket i medborgarskapslagen (2001:82) kan en utlänning som har fyllt 18 år och har varit bosatt i Sverige i sammanlagt fem år bli svensk medborgare genom ansökan. Detta förutsätter att utlänningen har permanent uppehållstillstånd i Sverige och att utlänningen inte har begått brott som kan leda till utvisning. \n",
      "\n",
      "En utlänning som är gift med en svensk medborgare kan bli svensk medborgare genom ansökan enligt 2 kap. 5 § första stycket medborgarskapslagen, om utlänningen har varit bosatt i Sverige i sammanlagt tre år och har permanent uppehållstillstånd i Sverige. \n",
      "\n",
      "En utlänning som är född i Sverige och har varit bosatt här sedan födseln kan bli svensk medborgare genom anmälan enligt 2 kap. 4 § medborgarskapslagen. \n",
      "\n",
      "För att bli svensk medborgare genom anmälan enligt 2 kap. 3 § medborgarskapslagen krävs det att utlänningen har varit bosatt i Sverige i sammanlagt två år och har permanent uppehållstillstånd i Sverige. Detta gäller dock endast om utlänningen har en förälder som är svensk medborgare eller har varit bosatt i Sverige i sammanlagt fem år. \n",
      "\n",
      "Källor: \n",
      "- Medborgarskapslagen (2001:82)\n",
      "- Lag (2022:700) om särskild kontroll av vissa utlänningar\n",
      "- Utlänningslagen (2005:716)\n"
     ]
    }
   ],
   "source": [
    "return_data = law_search.query(\"Vem kan bli medborgare? Svara detaljerat\", limit=5, print_debug=True)"
   ]
  },
  {
   "cell_type": "code",
   "execution_count": 96,
   "id": "ac80fd6a",
   "metadata": {
    "scrolled": false
   },
   "outputs": [
    {
     "name": "stdout",
     "output_type": "stream",
     "text": [
      "###########CONTEXT###########\n",
      "\n",
      "Förordning (2022:206) om statligt stöd till försäljningsställen för drivmedel i vissa landsbygdsområden||Tidsbegränsad:2024-01-01\n",
      "Förordning (2022:315) om miljökrav vid upphandling av bilar och vissa tjänster inom vägtransportområdet||varor med hög risk för indirekt ändring av markanvändning för vilka en betydande utvidgning av produktionsområdet till mark med stora kollager kan observeras och certifiering av biodrivmedel, flytande biobränslen och biomassabränslen med låg risk för indirekt ändrad markanvändning, eller - biodrivmedel, syntetiska bränslen eller paraffiniska bränslen som blandas med konventionella fossila bränslen.\n",
      "Lag (2011:846) om miljökrav vid upphandling av bilar och vissa tjänster inom vägtransportområdet||Ikraft:2011-07-01 överg.best.\n",
      "Förordning (2022:315) om miljökrav vid upphandling av bilar och vissa tjänster inom vägtransportområdet||Lagstödet för förordningen 1 § Denna förordning är meddelad med stöd av 12 § lagen (2011:846) om miljökrav vid upphandling av bilar och vissa tjänster inom vägtransportområdet. Ord och uttryck 2 § Med elfordon i lagen (2011:846) om miljökrav vid upphandling av bilar och vissa tjänster inom vägtransportområdet avses ett motorfordon försett med ett drivsystem som innehåller minst en icke-perifer elektrisk maskin som energiomvandlare med ett elektriskt uppladdningsbart energilagringssystem som kan laddas externt. 3 § Med alternativa drivmedel i lagen (2011:846) om miljökrav vid upphandling av bilar och vissa tjänster inom vägtransportområdet avses bland annat - el, - väte, - biodrivmedel enligt definitionen i lagen (2010:598) om hållbarhetskriterier för biodrivmedel och biobränslen, - syntetiska och paraffiniska bränslen, - metangas, och - gasol. Med alternativa drivmedel avses däremot inte - biodrivmedel som är producerade från råvaror med hög risk för indirekt ändring av markanvändning, om en betydande utvidgning av produktionsområdet till mark med stora kollager kan observeras enligt kommissionens delegerade förordning (EU) 2019807 av den 13 mars 2019 om komplettering av Europaparlamentets och rådets direktiv (EU) 20182001 vad gäller fastställande av bränsleråvaror med hög risk för indirekt ändring av markanvändning för vilka en betydande utvidgning av produktionsområdet till mark med stora kollager k\n",
      "Förordning (2023:132) om producentansvar för bilar||ing på den svenska marknaden i samband med yrkesmässig verksamhet, och släppa ut en bil på den svenska marknaden: att för första gången tillhandahålla en bil på den svenska marknaden. 8 § Ord och uttryck i denna förordning har i övrigt samma betydelse som i 15 kap. miljöbalken och avfallsförordningen (2020:614). Återvinningsmål 9 § En producent som tar emot en uttjänt bil ska se till att minst 95 procent av bilens vikt återanvänds eller återvinns, varav minst 85 procent av bilens vikt ska utgöras av återanvändning eller materialåtervinning. Andelarna ska beräknas på bilens tjänstevikt enligt lagen (2001:559) om vägtrafikdefinitioner med avdrag för förarvikt (75 kilogram) och bränslevikt (40 kilogram) och utgöra ett genomsnitt per bil och år. Första stycket gäller inte bilar som har särskilda karosseriarrangemang eller specifik utrustning för att kunna användas för särskilda transportuppgifter, såsom campingbilar, ambulanser, begravningsbilar eller andra bilar avsedda för särskilda ändamål i enlighet med punkten A5 i bilaga II till Europaparlamentets och rådets direktiv 200746EG av den 5 september 2007 om fastställande av en ram för godkännande av motorfordon och släpvagnar till dessa fordon samt av system, komponenter och separata tekniska enheter som är avsedda för sådana fordon, senast ändrat genom kommissionens förordning (EU) 3712010. Anmälan om tillhandahållande av bilar på den svenska marknaden 10 § \n",
      "\n",
      "\n",
      "###########QUERY###########\n",
      "\n",
      "Svara på frågan med hjälp av de lagar och förordningar som du har tillgång till, referera alltid till källan.\n",
      "När blir det inte tillåtet att köpa en ny bensinbil? Svara detaljerat\n",
      "\n",
      "\n",
      "###########RESPONSE###########\n",
      "\n",
      "Det finns ingen specifik lag eller förordning som förbjuder köp av nya bensinbilar. Dock har Sverige och EU satt upp mål för att minska utsläppen av växthusgaser och främja en övergång till mer hållbara transportalternativ. \n",
      "\n",
      "Enligt Förordning (2022:315) om miljökrav vid upphandling av bilar och vissa tjänster inom vägtransportområdet, definieras elfordon och alternativa drivmedel som el, väte, biodrivmedel, syntetiska och paraffiniska bränslen, metangas och gasol. Däremot specificeras det att biodrivmedel som är producerade från råvaror med hög risk för indirekt ändring av markanvändning inte räknas som alternativa drivmedel. \n",
      "\n",
      "För att främja en övergång till mer hållbara transportalternativ har Sverige satt upp mål om att ha en fossiloberoende fordonsflotta senast år 2030. Enligt Förordning (2022:206) om statligt stöd till försäljningsställen för drivmedel i vissa landsbygdsområden, kan statligt stöd ges till försäljningsställen för drivmedel i vissa landsbygdsområden för att främja tillgången till alternativa drivmedel. \n",
      "\n",
      "Det finns också en ny Förordning (2023:132) om producentansvar för bilar som reglerar producenternas ansvar för att ta emot uttjänta bilar och se till att minst 95 procent av bilens vikt återanvänds eller återvinns. \n",
      "\n",
      "Sammanfattningsvis finns det ingen specifik lag eller förordning som förbjuder köp av nya bensinbilar, men det finns mål och regleringar som främjar en övergång till mer hållbara transportalternativ och minskade utsläpp av växthusgaser. \n",
      "\n",
      "Källor:\n",
      "- Förordning (2022:206) om statligt stöd till försäljningsställen för drivmedel i vissa landsbygdsområden\n",
      "- Förordning (2022:315) om miljökrav vid upphandling av bilar och vissa tjänster inom vägtransportområdet\n",
      "- Förordning (2023:132) om producentansvar för bilar\n"
     ]
    }
   ],
   "source": [
    "return_data = law_search.query(\"När blir det inte tillåtet att köpa en ny bensinbil? Svara detaljerat\", limit=5, print_debug=True)"
   ]
  },
  {
   "cell_type": "code",
   "execution_count": null,
   "id": "e8301d13",
   "metadata": {},
   "outputs": [],
   "source": []
  },
  {
   "cell_type": "code",
   "execution_count": null,
   "id": "bfa3cd1d",
   "metadata": {},
   "outputs": [],
   "source": []
  }
 ],
 "metadata": {
  "kernelspec": {
   "display_name": "Python 3 (ipykernel)",
   "language": "python",
   "name": "python3"
  },
  "language_info": {
   "codemirror_mode": {
    "name": "ipython",
    "version": 3
   },
   "file_extension": ".py",
   "mimetype": "text/x-python",
   "name": "python",
   "nbconvert_exporter": "python",
   "pygments_lexer": "ipython3",
   "version": "3.10.9"
  }
 },
 "nbformat": 4,
 "nbformat_minor": 5
}
