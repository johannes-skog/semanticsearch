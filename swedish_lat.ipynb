{
 "cells": [
  {
   "cell_type": "code",
   "execution_count": 1,
   "id": "6fd8e35b",
   "metadata": {},
   "outputs": [],
   "source": [
    "import sys\n",
    "sys.path.append(\"src\")\n",
    "%load_ext autoreload\n",
    "%autoreload 2\n",
    "import pandas as pd\n",
    "from scraping import scan_swedish_legislation_parallel\n",
    "from vector_db import VectorDatabaseWeaviate\n",
    "from embedd import split_text, EmbedderOpenAI, EmbedderSwedishLegislation\n",
    "from search import SwedishLegislationSearch"
   ]
  },
  {
   "cell_type": "markdown",
   "id": "6ffbb287",
   "metadata": {},
   "source": [
    "## Scrap Swedish government office for all laws and regulations"
   ]
  },
  {
   "cell_type": "code",
   "execution_count": 2,
   "id": "e614645c",
   "metadata": {
    "scrolled": true
   },
   "outputs": [
    {
     "name": "stderr",
     "output_type": "stream",
     "text": [
      "100%|███████████████████████████████████████| 4539/4539 [01:42<00:00, 44.37it/s]\n"
     ]
    }
   ],
   "source": [
    "df = scan_swedish_legislation_parallel()\n",
    "df.to_pickle(\"data/laws.pickle\")"
   ]
  },
  {
   "cell_type": "code",
   "execution_count": 3,
   "id": "7cdf1573",
   "metadata": {},
   "outputs": [],
   "source": [
    "df = pd.read_pickle(\"data/laws.pickle\")"
   ]
  },
  {
   "cell_type": "markdown",
   "id": "be5e078f",
   "metadata": {},
   "source": [
    "## Set up embedding"
   ]
  },
  {
   "cell_type": "code",
   "execution_count": 2,
   "id": "dc010a4e",
   "metadata": {},
   "outputs": [],
   "source": [
    "if 0: # For debuging.. \n",
    "    df = pd.read_pickle(\"data/laws.pickle\").sample(2)\n",
    "\n",
    "df = pd.read_pickle(\"data/laws.pickle\")\n",
    "\n",
    "embedder = EmbedderSwedishLegislation(\n",
    "    df=df,\n",
    "    embedd_column=\"content\",\n",
    "    text_max_length=1500,\n",
    "    text_overlap=150,\n",
    "    context_columns=[\"title\"],\n",
    ")\n",
    "embedder.setup()"
   ]
  },
  {
   "cell_type": "code",
   "execution_count": null,
   "id": "03100e5c",
   "metadata": {},
   "outputs": [],
   "source": [
    "# Calculate the cost for the embedding\n",
    "(embedder._df.n_tokens.sum() / 1000) * 0.0004"
   ]
  },
  {
   "cell_type": "code",
   "execution_count": 74,
   "id": "2b7c83b2",
   "metadata": {},
   "outputs": [
    {
     "name": "stderr",
     "output_type": "stream",
     "text": [
      "9791it [3:43:23,  1.37s/it]\n"
     ]
    }
   ],
   "source": [
    "# Run the embedder\n",
    "embedder.embedd(1000, timeout=1.01)\n",
    "embedder._df.to_pickle(\"data/processed.pickle\")"
   ]
  },
  {
   "cell_type": "code",
   "execution_count": 3,
   "id": "a5d99bdb",
   "metadata": {},
   "outputs": [],
   "source": [
    "embedder._df = pd.read_pickle(\"data/processed.pickle\")"
   ]
  },
  {
   "cell_type": "markdown",
   "id": "e6f310ad",
   "metadata": {},
   "source": [
    "## Set up vector database"
   ]
  },
  {
   "cell_type": "code",
   "execution_count": 5,
   "id": "a5df0101",
   "metadata": {},
   "outputs": [],
   "source": [
    "class_obj = VectorDatabaseWeaviate.setup_class_object_structure(\n",
    "    class_name=\"Swedish_legislation\",\n",
    "    names=[\n",
    "        \"SFS_number\", \"title\", \"issuer\", \"content\"\n",
    "    ],\n",
    "    data_types=[\"text\"] * 6,\n",
    "    description=\"Holds Swedish legislation\"\n",
    ")\n",
    "\n",
    "vector_db = VectorDatabaseWeaviate(\n",
    "    name=\"Swedish_legislation\",\n",
    "    url=\"http://weaviate:8080\",\n",
    "    schema=class_obj,\n",
    ")"
   ]
  },
  {
   "cell_type": "code",
   "execution_count": 3,
   "id": "d5f57f30",
   "metadata": {},
   "outputs": [],
   "source": [
    "# Clear the vector datasbase \n",
    "if 0:\n",
    "    vector_db.redo()"
   ]
  },
  {
   "cell_type": "code",
   "execution_count": 16,
   "id": "8dc5d089",
   "metadata": {},
   "outputs": [
    {
     "name": "stderr",
     "output_type": "stream",
     "text": [
      "9791it [00:16, 595.09it/s]\n"
     ]
    }
   ],
   "source": [
    "# Add the embedding vectors to the vector database\n",
    "vector_db.populate(\n",
    "    embedder=embedder,\n",
    "    batch_size=10,\n",
    ")"
   ]
  },
  {
   "cell_type": "markdown",
   "id": "8bfcab3f",
   "metadata": {},
   "source": [
    "## Set up the semantic search with chat interface"
   ]
  },
  {
   "cell_type": "code",
   "execution_count": 4,
   "id": "3492346c",
   "metadata": {},
   "outputs": [],
   "source": [
    "from search import SwedishLegislationSearch"
   ]
  },
  {
   "cell_type": "code",
   "execution_count": 6,
   "id": "fb8bf86b",
   "metadata": {},
   "outputs": [],
   "source": [
    "law_search = SwedishLegislationSearch(\n",
    "    embedd_function=EmbedderSwedishLegislation.embedd_single,\n",
    "    vector_db=vector_db,\n",
    ")"
   ]
  },
  {
   "cell_type": "code",
   "execution_count": 84,
   "id": "b66251b9",
   "metadata": {},
   "outputs": [],
   "source": [
    "# return_data = law_search.query(\"Vem har befogenheter att starta ett krig? Vem har ansvar att leda de väpnade styrkorna vid ett krig? Svara detaljerat\", limit=5, print_debug=True)"
   ]
  },
  {
   "cell_type": "code",
   "execution_count": 72,
   "id": "94953fc6",
   "metadata": {},
   "outputs": [
    {
     "name": "stdout",
     "output_type": "stream",
     "text": [
      " \n",
      "Frågan om vem som har befogenhet att starta ett krig och vem som har ansvar att leda de väpnade styrkorna vid ett krig kan variera beroende på vilket land eller organisation vi talar om.\n",
      "\n",
      "I allmänhet är det dock vanligt att beslutet om att starta ett krig fattas av statens högsta beslutsfattare, till exempel presidenten eller premiärministern, med stöd av regeringen och/eller parlamentet. I en del länder kan det även krävas att beslutet om krigsförklaringen godkänns av en domstol eller annan oberoende institution.\n",
      "\n",
      "När det gäller vem som har ansvar att leda de väpnade styrkorna vid ett krig är det vanligtvis landets överbefälhavare eller högsta militära ledare. I vissa länder kan det också finnas en särskild minister eller byrå som ansvarar för försvar och militära frågor. Under själva kriget kan det finnas flera nivåer av militära befälhavare som ansvarar för olika aspekter av krigföringen, till exempel marktrupper, flyg eller sjöstridskrafter.\n",
      "\n"
     ]
    }
   ],
   "source": [
    "# chat-gpt-3.5 reply\n",
    "s = ''' \n",
    "Frågan om vem som har befogenhet att starta ett krig och vem som har ansvar att leda de väpnade styrkorna vid ett krig kan variera beroende på vilket land eller organisation vi talar om.\n",
    "\n",
    "I allmänhet är det dock vanligt att beslutet om att starta ett krig fattas av statens högsta beslutsfattare, till exempel presidenten eller premiärministern, med stöd av regeringen och/eller parlamentet. I en del länder kan det även krävas att beslutet om krigsförklaringen godkänns av en domstol eller annan oberoende institution.\n",
    "\n",
    "När det gäller vem som har ansvar att leda de väpnade styrkorna vid ett krig är det vanligtvis landets överbefälhavare eller högsta militära ledare. I vissa länder kan det också finnas en särskild minister eller byrå som ansvarar för försvar och militära frågor. Under själva kriget kan det finnas flera nivåer av militära befälhavare som ansvarar för olika aspekter av krigföringen, till exempel marktrupper, flyg eller sjöstridskrafter.\n",
    "'''\n",
    "print(s)"
   ]
  },
  {
   "cell_type": "code",
   "execution_count": 81,
   "id": "e1b92aea",
   "metadata": {},
   "outputs": [
    {
     "name": "stdout",
     "output_type": "stream",
     "text": [
      "###########CONTEXT###########\n",
      "\n",
      "Lag (1904:26 s.1) om vissa internationella rättsförhållanden rörande äktenskap och förmynderskap||1 kap. Om äktenskapets ingående 1 § Om två personer vill ingå äktenskap med varandra inför en svensk myndighet, ska det prövas om det finns något hinder mot äktenskapet enligt svensk lag. Om ingen av dem är svensk medborgare eller har hemvist i Sverige, ska det dessutom prövas att var och en av dem har rätt att ingå äktenskapet enligt lagen i en efter eget val angiven stat där han eller hon antingen är medborgare eller har hemvist. Om båda begär det och det finns särskilda skäl, får dock prövningen ske med tillämpning av enbart svensk lag även i ett sådant fall. Lag (2009:256). 2 § Har upphävts genom lag (2004:144). 3 § Har upphävts genom lag (2004:144). 4 § När äktenskap skall ingås inför svensk myndighet här i riket, tillämpas svensk lag i fråga om vigsel. Lag (1973:942). 5 § Regeringen kan bestämma, att med diplomatisk eller konsulär tjänst eller med befattning som präst skall vara förenad behörighet att i främmande stat förrätta vigsel enligt svensk lag. Regeringen kan även genom särskilt förordnande tillerkänna lämplig person sådan behörighet. Vad som i svensk lag föreskrives om verkan av att vigselförrättare förfarit oriktigt vid vigsel här i riket eller överskridit sin behörighet äger motsvarande tillämpning, när svensk vigselförrättare viger i främmande stat. Lag (1976:1120). 6 § Den som enligt främmande lag är behörig att förrätta vigsel får i fall som regeringen bestämmer viga här i riket med tillämpning av nämnda lag. \n",
      "Lag (1904:26 s.1) om vissa internationella rättsförhållanden rörande äktenskap och förmynderskap||. om parterna inte var närvarande samtidigt vid äktenskapets ingående och minst en av dem då var svensk medborgare eller hade hemvist i Sverige. Första stycket gäller inte om båda parterna är över 18 år och det finns synnerliga skäl att erkänna äktenskapet. Lag (2021:465). 9 § Regeringen eller myndighet som regeringen bestämmer kan meddela särskilda föreskrifter om sättet för hindersprövning i fråga om sådan vigsel enligt svensk lag som avses i detta kapitel. Lag (1976:1120). 10 § Har upphävts genom lag (2004:144). 2 kap. Har upphävts genom lag (1973:942). 3 kap. Om äktenskapsmål m.m. 1 § Äktenskapsmål är mål om äktenskapsskillnad och mål där det är tvist om personerna är förenade i äktenskap med varandra. Lag (2009:256). 2 § Äktenskapsmål får tas upp av svensk domstol, om 1. båda makarna är svenska medborgare, 2. käranden är svensk medborgare och har hemvist här i riket eller tidigare har haft hemvist här sedan han eller hon fyllt arton år, 3. käranden inte är svensk medborgare men har hemvist här i riket sedan minst ett år, 4. svaranden har hemvist här i riket, 5. saken rör ogiltighet av vigsel som har förrättats av svensk myndighet, eller 6. det i annat fall än som avses i 1–5 finns särskilda skäl att talan prövas här i riket, under förutsättning att en av makarna är svensk medborgare eller käranden inte kan få sin talan prövad i den stat där han eller hon är medborgare eller har hemvist. Lag (2009:256). 3 § \n",
      "Lag (1904:26 s.1) om vissa internationella rättsförhållanden rörande äktenskap och förmynderskap|| 30 april 2004, om den person som avser att ingå äktenskap är under 18 år eller fråga är om äktenskap mellan halvsyskon. 2011:604 1. Denna lag träder i kraft den 18 juni 2011. 2. Har en fråga om underhåll tagits upp i ett äktenskapsmål före ikraftträdandet, går inte svensk domstols behörighet förlorad och tillämpas 3 kap. 6 § i sin äldre lydelse. 2014:379 1. Denna lag träder i kraft den 1 juli 2014. 2. Äldre bestämmelser gäller för äktenskap som har ingåtts före ikraftträdandet. 2014:913 1. Denna lag träder i kraft den 10 januari 2015. 2. Äldre föreskrifter gäller för handläggningen i Svea hovrätt och Högsta domstolen av ärenden som har inletts i hovrätten före ikraftträdandet. 2018:1973 1. Denna lag träder i kraft den 1 januari 2019. 2. Äldre bestämmelser gäller för äktenskap som har ingåtts före ikraftträdandet. Detta gäller dock inte om frågan om erkännande prövas innan båda parterna har fyllt 18 år. 2021:465 1. Denna lag träder i kraft den 1 juli 2021. 2. Äldre bestämmelser gäller för äktenskap som har registrerats av Skatteverket i folkbokföringsdatabasen före ikraftträdandet.\n",
      "Förordning (2009:263) om vigsel som förrättas av särskilt förordnad vigselförrättare||ad förrättare ska upphöra att gälla. 2. Äldre bestämmelser gäller fortfarande för registrering av partnerskap som förrättats före den 1 maj 2009.\n",
      "Förordning (2009:263) om vigsel som förrättas av särskilt förordnad vigselförrättare||1 § Bestämmelserna i denna förordning gäller vigsel som förrättas av den som länsstyrelsen har förordnat till vigselförrättare. 2 § Länsstyrelsen beslutar om tjänstgöringstiden för vigselförrättaren. 3 § Tid och plats för vigsel bestäms av vigselförrättaren efter samråd med paret. 4 § Vid vigsel ska vigselförrättaren rikta följande ord till paret: Ni har förklarat att ni vill ingå äktenskap med varandra. Vill du N.N. ta dennadenne N.N. till din hustruman? (Svar: Ja.) Vill du N.N. ta dennadenne N.N. till din hustruman? (Svar: Ja.) Jag förklarar er nu för äkta makar. 5 § Om paret särskilt begär det kan vigselförrättaren, i stället för det som anges i 4 §, rikta följande ord till dem: Ni vill ingå äktenskap med varandra. Äktenskapet bygger på kärlek och tillit. Genom att ingå äktenskap lovar ni att respektera och stötta varandra. Som makar är ni två självständiga individer som kan hämta styrka ur er gemenskap. Eftersom ni har förklarat att ni vill ingå äktenskap med varandra, frågar jag: Vill du N.N. ta dennadenne N.N. till din hustruman att älska hennehonom i nöd och lust? (Svar: Ja.) Vill du N.N. ta dennadenne N.N. till din hustruman att älska hennehonom i nöd och lust? (Svar: Ja.) (Paret kan växla ringar.) Jag förklarar er nu för äkta makar. När ni nu går ut i livet och åter till vardagen så minns den vilja till gemenskap, den kärlek till varandra och den aktning för varandra som ni känt i denna s\n",
      "\n",
      "\n",
      "###########QUERY###########\n",
      "\n",
      "Svara på frågan med hjälp av de lagar och förordningar som du har tillgång till, referera alltid till källan.\n",
      "Vem kan ej gifta sig med varandra? Svara detaljerat\n",
      "\n",
      "\n",
      "###########RESPONSE###########\n",
      "\n",
      "Enligt Äktenskapsbalken (1987:230) 1 kap. 4 § får inte två personer ingå äktenskap med varandra om de är släkt med varandra på ett sätt som hindrar äktenskap enligt 4 kap. 1 § ÄktB. Detta innebär att personer som är närmare släkt än kusiner inte får gifta sig med varandra. \n",
      "\n",
      "Enligt samma paragraf får inte heller två personer ingå äktenskap med varandra om någon av dem är gift eller registrerad partner med någon annan. \n",
      "\n",
      "Vidare finns det även andra hinder mot äktenskap som kan vara relevanta i vissa fall, såsom om någon av parterna är under 18 år eller om det finns synnerliga skäl att inte erkänna äktenskapet. \n",
      "\n",
      "Lagen om vissa internationella rättsförhållanden rörande äktenskap och förmynderskap (1904:26) reglerar även att det ska prövas om det finns något hinder mot äktenskapet enligt svensk lag och att var och en av parterna måste ha rätt att ingå äktenskapet enligt lagen i en efter eget val angiven stat där han eller hon antingen är medborgare eller har hemvist. \n",
      "\n",
      "Referenser:\n",
      "- Äktenskapsbalken (1987:230) 1 kap. 4 § och 4 kap. 1 §\n",
      "- Lagen om vissa internationella rättsförhållanden rörande äktenskap och förmynderskap (1904:26) 1 kap. 1 §\n"
     ]
    }
   ],
   "source": [
    "return_data = law_search.query(\"Vem kan ej gifta sig med varandra? Svara detaljerat\", limit=5, print_debug=True)"
   ]
  },
  {
   "cell_type": "code",
   "execution_count": 79,
   "id": "e0c1425b",
   "metadata": {
    "scrolled": false
   },
   "outputs": [
    {
     "name": "stdout",
     "output_type": "stream",
     "text": [
      "####CONTEXT####\n",
      "\n",
      "Lag (2022:700) om särskild kontroll av vissa utlänningar|| avviker, håller sig undan eller på annat sätt hindrar verkställigheten eller utövar brottslig verksamhet i Sverige, eller 2. utlänningens identitet är oklar. 2 § En utlänning som inte har fyllt 18 år får tas i förvar, om det 1. är sannolikt att ett beslut om utvisning enligt 2 kap. 1 § kommer att meddelas, eller 2. finns ett beslut om utvisning enligt 2 kap. 1 § och förvar behövs för att förbereda eller genomföra verkställighet av beslutet. Utlänningen får dock tas i förvar endast om det finns en betydande risk för att utlänningen annars avviker, håller sig undan eller på annat sätt hindrar verkställigheten eller utövar brottslig verksamhet i Sverige. Vem som får besluta om förvar 3 § Ett beslut om förvar meddelas av den behöriga myndigheten, om inte annat följer av 4 §. Behörig myndighet är Migrationsverket, om inte något annat anges i tredje eller fjärde stycket. Regeringen är behörig myndighet från det att ett överklagande av ett beslut om utvisning har tagits emot av Regeringskansliet och till dess regeringen har avslutat handläggningen av överklagandet. Säkerhetspolisen är behörig myndighet från det att myndigheten har tagit emot ett beslut om utvisning för verkställighet till dess det har verkställts. 4 § När regeringen är behörig myndighet beslutar det ansvariga statsrådet om förvar. Regeringen får dock besluta att en utlänning fortsatt ska vara tagen i förvar när regeringen omprövar ett beslut\n",
      "Lag (1981:324) om medborgarvittnen||1 § För att tillgodose allmänhetens intresse av insyn i polisverksamheten får en kommun utse trovärdiga personer att som medborgarvittnen följa Polismyndighetens arbete inom det län till vilket kommunen hör. Lag (2014:586). 2 § Medborgarvittnen väljs av kommunfullmäktige till det antal och för den tid som fullmäktige bestämmer. Valet ska vara proportionellt, om det begärs av minst så många ledamöter som motsvarar den kvot som erhålls om antalet närvarande ledamöter delas med det antal personer som valet avser, ökat med 1. Om kvoten är ett brutet tal, ska den avrundas till närmast högre hela tal. Bestämmelser om förfarandet vid sådant proportionellt val finns i lagen (2022:629) om proportionella val i kommuner och regioner. Lag (2022:635). 3 § Valbar till medborgarvittne är den som är folkbokförd inom kommunen och som inte är underårig eller har förvaltare enligt 11 kap. 7 § föräldrabalken. Den som inte är svensk medborgare är valbar endast om han eller hon sedan tre år är folkbokförd i Sverige. Den som är anställd av Polismyndigheten eller Säkerhetspolisen får inte väljas till medborgarvittne. Om ett medborgarvittne upphör att vara valbar, förfaller uppdraget genast. Lag (2014:586). 4 § Bestämmelser om medborgarvittnenas tjänstgöring meddelas av kommunen efter samråd med Polismyndigheten. Har en annan kommun inom länet utsett medborgarvittnen, ska samråd äga rum även med denna. Lag (2014:586). 5 § Har medborgarvittnen utsetts ska \n",
      "Passlag (1978:302)||jänstepass eller diplomatpass. Regeringen eller den myndighet som regeringen bestämmer får meddela ytterligare föreskrifter om särskilt pass. Det kan då föreskrivas att ett sådant pass får utfärdas 1. som annat särskilt pass än de som anges i första meningen, och 2. för den som uppehåller sig utomlands och inte kan styrka sitt svenska medborgarskap eller har förlorat svenskt medborgarskap utan att förvärva medborgarskap i en annan stat. Lag (2016:135). 4 § Svensk medborgare har rätt att på ansökan erhålla vanligt pass, om annat ej följer av denna lag. Pass får återkallas endast på grunder som anges i denna lag. 5 § En svensk medborgare får inte resa ut ur riket utan att medföra giltigt pass. Första stycket gäller inte 1. mönstrat sjöfolk på fartyg under tjänstgöring ombord på fartyget eller fiskare under yrkesutövning, 2. medlem av besättning på luftfartyg under tjänstgöring ombord på luftfartyget, om han eller hon har flygcertifikat eller därmed jämförlig handling, 3. den som är medborgare även i en annan stat än Sverige och som medför legitimationshandling som gäller som pass och är utfärdad av en myndighet i den staten, 4. den som reser till någon av de stater mot vilka gränskontroll inte genomförs enligt Europaparlamentets och rådets förordning (EU) 2016399 av den 9 mars 2016 om en unionskodex om gränspassage för personer (kodex om Schengengränserna), eller 5. den som reser till en annan stat inom Europe\n",
      "Lag (2022:700) om särskild kontroll av vissa utlänningar|| får regeringen upphäva det överklagade beslutet och överlämna ärendet till Migrationsverket för handläggning. Detta gäller dock inte när det gäller sådana ansökningar om uppehållstillstånd som avses i 2 kap. 9 § första stycket. 18 § Om regeringen beslutar att en utlänning inte ska utvisas och utlänningen har ansökt om uppehållstillstånd, statusförklaring, resedokument eller ställning som varaktigt bosatt i Sverige, får regeringen överlämna ärendet i dessa delar till Migrationsverket för prövning enligt utlänningslagen (2005:716). Det framgår av 2 kap. 9 § tredje stycket att regeringen i vissa fall ska överlämna en ansökan om uppehållstillstånd till Migrationsverket när regeringen beslutar att en utlänning inte ska utvisas. Rättsprövning 19 § Enligt 2 a § lagen (2006:304) om rättsprövning av vissa regeringsbeslut har en EES-medborgare eller en familjemedlem till en sådan medborgare rätt att hos Högsta förvaltningsdomstolen ansöka om rättsprövning av ett beslut om utvisning enligt denna lag. Nöjdförklaring 20 § En utlänning som har rätt att överklaga ett beslut om utvisning kan förklara att han eller hon avstår från att överklaga beslutet med tillhörande återreseförbud (nöjdförklaring). 21 § En nöjdförklaring lämnas inför Migrationsverket. En nöjdförklaring får också lämnas inför 1. Polismyndigheten, eller 2. chefen för en kriminalvårdsanstalt eller chefen för ett häkte eller någon annan tjänsteman där som \n",
      "Förordning (2017:820) om etableringsinsatser för vissa nyanlända invandrare||Ikraft:2018-01-01 överg.best.\n",
      "\n",
      "\n",
      "####QUERY####\n",
      "\n",
      "Vem kan bli medborgare? Svara detaljerat\n",
      "\n",
      "\n",
      "####RESPONSE####\n",
      "\n",
      "Enligt 2 kap. 1 § första stycket i medborgarskapslagen (2001:82) kan en utlänning som har fyllt 18 år och har varit bosatt i Sverige i sammanlagt fem år bli svensk medborgare genom ansökan. Detta förutsätter att utlänningen har permanent uppehållstillstånd i Sverige och att utlänningen inte har begått brott som kan leda till utvisning. \n",
      "\n",
      "En utlänning som är gift med en svensk medborgare kan bli svensk medborgare genom ansökan enligt 2 kap. 5 § första stycket medborgarskapslagen, om utlänningen har varit bosatt i Sverige i sammanlagt tre år och har permanent uppehållstillstånd i Sverige. \n",
      "\n",
      "En utlänning som är född i Sverige och har varit bosatt här sedan födseln kan bli svensk medborgare genom anmälan enligt 2 kap. 4 § medborgarskapslagen. \n",
      "\n",
      "För att bli svensk medborgare genom anmälan enligt 2 kap. 3 § medborgarskapslagen krävs det att utlänningen har varit bosatt i Sverige i sammanlagt två år och har permanent uppehållstillstånd i Sverige. Detta gäller dock endast om utlänningen har en förälder som är svensk medborgare eller har varit bosatt i Sverige i sammanlagt fem år. \n",
      "\n",
      "Källor: \n",
      "- Medborgarskapslagen (2001:82)\n",
      "- Lag (2022:700) om särskild kontroll av vissa utlänningar\n",
      "- Utlänningslagen (2005:716)\n"
     ]
    }
   ],
   "source": [
    "return_data = law_search.query(\"Vem kan bli medborgare? Svara detaljerat\", limit=5, print_debug=True)"
   ]
  },
  {
   "cell_type": "code",
   "execution_count": 78,
   "id": "a4396d6e",
   "metadata": {
    "scrolled": false
   },
   "outputs": [
    {
     "name": "stdout",
     "output_type": "stream",
     "text": [
      "####CONTEXT####\n",
      "\n",
      "Kungörelse (1969:84) om polisens användning av skjutvapen||h intagen i anstalt, eller 3. omhänderta en person som, på grund av allvarlig psykisk störning eller innehav av vapen som kan befaras bli missbrukat eller av annan anledning, uppenbarligen är farlig för någon annans liv eller hälsa. Förordning (2017:338). 3 § Polismyndigheten eller Säkerhetspolisen får i fall som avses i 24 kap. 2 § brottsbalken eller 10 § polislagen (1984:387) men som inte nämns i 2 § denna förordning medge en polisman att använda skjutvapen för att genomföra en viss tjänsteåtgärd, om det är absolut nödvändigt med hänsyn till åtgärdens vikt. Förordning (2016:85). 4 § Annat skjutvapen än pistol får användas endast efter medgivande av Polismyndigheten eller Säkerhetspolisen. Jaktvapen får dock användas för att avliva djur. Förordning (2014:1115). 5 § Myndighetschefen får delegera beslut enligt 3 eller 4 § till någon annan anställd vid myndigheten som har den särskilda kompetens, utbildning och erfarenhet som behövs. Förordning (2014:1115). 6 § En polisman som uppträder i en grupp eller avdelning under direkt ledning av en förman får använda skjutvapen endast på order av honom eller henne. Det gäller dock inte om gruppen, avdelningen eller någon annan utsätts för ett så allvarligt angrepp eller hot om angrepp att vapen måste användas omedelbart. Förordning (2014:1115). 7 § Innan polisman använder skjutvapen, skall han särskilt beakta risken för att utomstående skadas. Skottlossning inom område, där många människo\n",
      "Förordning (2007:936) om folkrättslig granskning av vapenprojekt||kaffning eller modifiering av vapen eller stridsmetoder. Anmälan om sådana projekt får även göras av andra.\n",
      "Lag (2022:1057) med kompletterande bestämmelser till EU:s gräns- och kustbevakningsförordning||illstånd att utöva befogenheter enligt 4 § har vid tjänstgöringen i Sverige rätt att använda skjutvapen endast i den utsträckning som reglerna om nödvärn medger. I övrigt har de samma rätt som motsvarande svenska tjänstemän har enligt lag eller annan författning. För att särskild utrustning ska få användas vid våldsanvändning ska dock utrustningen motsvara den som svenska polismän, kustbevakningstjänstemän, tulltjänstemän eller kriminalvårdstjänstemän använder i motsvarande verksamhet. Straffrättsligt skydd och ansvar 6 § Utländska tjänstemän som utövar myndighet i Sverige med stöd av denna lag ska vara skyddade enligt 17 kap. 1, 2 och 4 §§ brottsbalken på motsvarande sätt som om det varit fråga om svensk myndighetsutövning. 7 § Utländska tjänstemän som utför uppgifter i Sverige enligt EU:s gräns- och kustbevakningsförordning ska vara ansvariga för olaga diskriminering enligt 16 kap. 9 § brottsbalken på motsvarande sätt som den som är anställd i svensk allmän tjänst. Innefattar uppgifterna myndighetsutövning ska tjänstemännen vara ansvariga även för tjänstefel enligt 20 kap. 1 § brottsbalken på motsvarande sätt som om det varit fråga om svensk myndighetsutövning.\n",
      "Brev (1940:553) till chefen för försvarsstaben angående utlåning och försäljning av skjutvapen m.m. från kronans förråd;||I. Utlåning av skjutvapen m.m. från kronans förråd. 1. I den mån tillgodoseendet av arméns, marinens och flygvapnets behov av vapen det tillåter, må arméförvaltningens tygdepartement, marinförvaltningen och flygförvaltningen såsom lån från kronans förråd utlämna, a) till skytteförening, skytteförbund, Svenska röda korset och Svenska röda stjärnan: eldhandvapen, b) till Frivilliga automobilkåren, Sveriges frivilliga motorbåtskår och Frivilliga motorcykelkåren: eldhandvapen och kulsprutor, c) till civil statsmyndighet, polismyndighet, landstormsförening och landstormsförbund samt till fabrik inom landet som med vederbörligt tillstånd bedriver tillverkning av vapen eller ammunition: eldhandvapen, kulsprutor samt artilleripjäser, granatkastare och luftvärnsmateriel; skolande skytte- och landstormsförening (-förbund) som här avses vara ansluten till det av staten understödda frivilliga skytteväsendet, respektive Sveriges landstormsföreningars centralförbund. - - - - - - - - - - - - - - - - - - - - - - - - - - - - - - - - - - 5. Skjutvapen må utlämnas endast där låntagaren i den ordning, som föreskrives i vapenkungörelsen, erhållit tillstånd att innehava vapen varom är fråga. Tillstånd som nu nämnts erfordras dock icke vid utlåning till den som jämlikt 28 § första stycket vapenkungörelsen är undantagen från kungörelsens tillämpning, eller vid utlåning till statens befattningshavare eller person tillhörande försvars- eller polisväsendet, såvi\n",
      "Brev (1940:553) till chefen för försvarsstaben angående utlåning och försäljning av skjutvapen m.m. från kronans förråd;||rbund samt till förbundet anslutna landstormsförbund och landstormsföreningar, e) Frivilliga automobilkåren, Sveriges frivilliga motorbåtskår, Frivilliga motorcykelkåren, Svenska röda korset och Svenska röda stjärnan, f) fabrik inom landet som med vederbörligt tillstånd bedriver tillverkning av vapen eller ammunition, samt g) officer och underofficer ävensom annan enskild person. 2. Arméförvaltningens tygdepartement må vidare till Sveriges landstormsföreningars centralförbund och till förbundet anslutna landstormsförbund och landstormsföreningar försälja kulsprutegevär och kulsprutepistoler, med villkor att inköpt vapen tilldelas visst landstormsområde samt tages till uppbörd och redovisning vid vederbörligt landstorms- eller truppförråd enligt av tygdepartementet lämnade föreskrifter för att ingå i landstormsförbands utrustning. Härjämte må arméförvaltningens tygdepartement, marinförvaltningen och flygförvaltningen försälja ammunitionseffekter, utöver vad i 1 mom. sägs, till Sveriges landstormsföreningars centralförbund och till fabrik inom landet som med vederbörligt tillstånd bedriver tillverkning av vapen eller ammunition. 3. Skjutvapen och ammunitionseffekter må försäljas endast där köparen i den ordning, som föreskrives i vapenkungörelsen, erhållit tillstånd att innehava vapen varom är fråga, eller att förvärva ammunitionseffekterna. Tillstånd som nu nämnts erfordras dock icke vid försäljning till den som jämlikt 28 § första stycke\n",
      "\n",
      "\n",
      "####QUERY####\n",
      "\n",
      "Vem har rätt att bära vapen? Svara detaljerat\n",
      "\n",
      "\n",
      "####RESPONSE####\n",
      "\n",
      "I Sverige är det endast personer som har tillstånd från polismyndigheten som har rätt att bära vapen. Enligt vapenlagen (1996:67) krävs det tillstånd för att inneha och bära vapen, och detta tillstånd kan endast beviljas om det finns särskilda skäl. Tillstånd kan exempelvis beviljas för jakt, sportskytte eller yrkesmässigt bruk. \n",
      "\n",
      "Polismyndigheten har också befogenhet att bevilja tillstånd för att inneha och bära vissa typer av vapen som anses vara särskilt farliga, såsom automatvapen och vissa typer av handeldvapen. \n",
      "\n",
      "Det finns också särskilda regler för polisens användning av skjutvapen, som regleras i Kungörelse (1969:84) om polisens användning av skjutvapen och Förordning (2017:338) om polisens användning av skjutvapen. En polisman får endast använda skjutvapen om det är absolut nödvändigt med hänsyn till åtgärdens vikt och risken för att utomstående skadas ska alltid beaktas. \n",
      "\n",
      "Referenser:\n",
      "- Vapenlagen (1996:67)\n",
      "- Kungörelse (1969:84) om polisens användning av skjutvapen\n",
      "- Förordning (2017:338) om polisens användning av skjutvapen\n"
     ]
    }
   ],
   "source": [
    "return_data = law_search.query(\"Vem har rätt att bära vapen? Svara detaljerat\", limit=5, print_debug=True)"
   ]
  },
  {
   "cell_type": "code",
   "execution_count": null,
   "id": "4c94998f",
   "metadata": {},
   "outputs": [],
   "source": []
  },
  {
   "cell_type": "code",
   "execution_count": null,
   "id": "bd38a3ab",
   "metadata": {},
   "outputs": [],
   "source": []
  }
 ],
 "metadata": {
  "kernelspec": {
   "display_name": "Python 3 (ipykernel)",
   "language": "python",
   "name": "python3"
  },
  "language_info": {
   "codemirror_mode": {
    "name": "ipython",
    "version": 3
   },
   "file_extension": ".py",
   "mimetype": "text/x-python",
   "name": "python",
   "nbconvert_exporter": "python",
   "pygments_lexer": "ipython3",
   "version": "3.10.9"
  }
 },
 "nbformat": 4,
 "nbformat_minor": 5
}
